{
 "cells": [
  {
   "cell_type": "code",
   "execution_count": 1,
   "metadata": {},
   "outputs": [],
   "source": [
    "import pandas as pd\n",
    "import numpy as np\n",
    "import random\n",
    "\n",
    "# Define parameters for synthetic data\n",
    "num_professionals = 1000\n",
    "num_jobs = 500\n",
    "skills = ['nursing', 'physician', 'radiology', 'pharmacy', 'lab']\n",
    "locations = ['New York', 'Los Angeles', 'Chicago', 'Houston', 'Philadelphia']\n",
    "certifications = ['BLS', 'ACLS', 'PALS', 'CPR', 'NRP']\n",
    "education = ['Associate', 'Bachelor', 'Master', 'Doctorate']\n",
    "work_preferences = ['part-time', 'full-time', 'day shift', 'night shift']\n",
    "skill_levels = ['entry-level', 'intermediate', 'advanced']\n",
    "max_experience_years = 30\n",
    "\n",
    "# Generate synthetic data for healthcare professionals\n",
    "professionals_df = pd.DataFrame(columns=['id', 'skill', 'location', 'certification', 'education', 'skill_level', 'experience', 'work_preference'])\n",
    "for i in range(num_professionals):\n",
    "    professional_id = i + 1\n",
    "    skill = random.choice(skills)\n",
    "    location = random.choice(locations)\n",
    "    certification = random.sample(certifications, random.randint(1, 3))\n",
    "    education = random.choice(education)\n",
    "    skill_level = random.choice(skill_levels)\n",
    "    experience_years = random.randint(0, max_experience_years)\n",
    "    work_preference = random.choice(work_preferences)\n",
    "    professionals_df.loc[i] = [professional_id, skill, location, certification, education, skill_level, experience_years, work_preference]\n",
    "\n",
    "# Generate synthetic data for job opportunities\n",
    "jobs_df = pd.DataFrame(columns=['id', 'skill', 'location', 'certification_required', 'education_required', 'skill_level_required', 'experience_required', 'work_preference'])\n",
    "for i in range(num_jobs):\n",
    "    job_id = i + 1\n",
    "    skill = random.choice(skills)\n",
    "    location = random.choice(locations)\n",
    "    certification_required = random.sample(certifications, random.randint(1, 3))\n",
    "    education_required = random.choice(education)\n",
    "    skill_level_required = random.choice(skill_levels)\n",
    "    experience_years_required = random.randint(0, max_experience_years)\n",
    "    work_preference = random.choice(work_preferences)\n",
    "    jobs_df.loc[i] = [job_id, skill, location, certification_required, education_required, skill_level_required, experience_years_required, work_preference]\n",
    "\n",
    "# Save synthetic data to CSV files\n",
    "professionals_df.to_csv('professionals.csv', index=False)\n",
    "jobs_df.to_csv('jobs.csv', index=False)\n",
    "\n"
   ]
  },
  {
   "cell_type": "code",
   "execution_count": null,
   "metadata": {},
   "outputs": [],
   "source": []
  }
 ],
 "metadata": {
  "kernelspec": {
   "display_name": "Python 3",
   "language": "python",
   "name": "python3"
  },
  "language_info": {
   "codemirror_mode": {
    "name": "ipython",
    "version": 3
   },
   "file_extension": ".py",
   "mimetype": "text/x-python",
   "name": "python",
   "nbconvert_exporter": "python",
   "pygments_lexer": "ipython3",
   "version": "3.10.4"
  },
  "orig_nbformat": 4,
  "vscode": {
   "interpreter": {
    "hash": "aee8b7b246df8f9039afb4144a1f6fd8d2ca17a180786b69acc140d282b71a49"
   }
  }
 },
 "nbformat": 4,
 "nbformat_minor": 2
}
