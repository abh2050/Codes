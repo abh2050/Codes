{
 "cells": [
  {
   "cell_type": "markdown",
   "metadata": {},
   "source": [
    "Collaborative Filtering"
   ]
  },
  {
   "cell_type": "code",
   "execution_count": 19,
   "metadata": {},
   "outputs": [],
   "source": [
    "import tez\n",
    "import pandas as pd\n",
    "from sklearn import model_selection\n",
    "import torch"
   ]
  },
  {
   "cell_type": "code",
   "execution_count": 20,
   "metadata": {},
   "outputs": [],
   "source": [
    "class MovieDataset:\n",
    "    def __init__(self,users,movies,ratings):\n",
    "        self.users=users\n",
    "        self.movies=movies\n",
    "        self.ratings=ratings\n",
    "    \n",
    "    def __len__(self):\n",
    "        return len(self.users)\n",
    "    \n",
    "    def __getitem__(self,item):\n",
    "        user = self.users[item]\n",
    "        movie = self.movies[item]\n",
    "        rating = self.ratings[item]\n",
    "\n",
    "        return{'user':torch.tensor(user, dtype=torch.long),\n",
    "        'movie':torch.tensor(movie, dtype=torch.long),\n",
    "        'rating':torch.tensor(rating, dtype=torch.float)}"
   ]
  },
  {
   "cell_type": "code",
   "execution_count": 21,
   "metadata": {},
   "outputs": [],
   "source": [
    "def train():\n",
    "    df=pd.read_csv('../input/train.csv')\n",
    "    #ID ,user,movie,rating,timestamp\n",
    "    df_train,df_valid=model_selection.train_test_split(df,test_size=0.1,random_state=42,stratify=df.ratings.values)"
   ]
  },
  {
   "cell_type": "code",
   "execution_count": 22,
   "metadata": {},
   "outputs": [
    {
     "ename": "NameError",
     "evalue": "name 'df_train' is not defined",
     "output_type": "error",
     "traceback": [
      "\u001b[0;31m---------------------------------------------------------------------------\u001b[0m",
      "\u001b[0;31mNameError\u001b[0m                                 Traceback (most recent call last)",
      "\u001b[1;32m/Users/abhishekshah/Desktop/Programs/Recommender system/train.ipynb Cell 5'\u001b[0m in \u001b[0;36m<cell line: 1>\u001b[0;34m()\u001b[0m\n\u001b[0;32m----> <a href='vscode-notebook-cell:/Users/abhishekshah/Desktop/Programs/Recommender%20system/train.ipynb#ch0000005?line=0'>1</a>\u001b[0m train_dataset\u001b[39m=\u001b[39mMovieDataset(users\u001b[39m=\u001b[39mdf_train\u001b[39m.\u001b[39muser\u001b[39m.\u001b[39mvalues,movies\u001b[39m=\u001b[39mdf_train\u001b[39m.\u001b[39mmovie\u001b[39m.\u001b[39mvalues,ratings\u001b[39m=\u001b[39mdf_train\u001b[39m.\u001b[39mrating\u001b[39m.\u001b[39mvalues)\n\u001b[1;32m      <a href='vscode-notebook-cell:/Users/abhishekshah/Desktop/Programs/Recommender%20system/train.ipynb#ch0000005?line=1'>2</a>\u001b[0m valid_dataset\u001b[39m=\u001b[39mMovieDataset(users\u001b[39m=\u001b[39mdf_valid\u001b[39m.\u001b[39muser\u001b[39m.\u001b[39mvalues,movies\u001b[39m=\u001b[39mdf_valid\u001b[39m.\u001b[39mmovie\u001b[39m.\u001b[39mvalues,ratings\u001b[39m=\u001b[39mdf_valid\u001b[39m.\u001b[39mrating\u001b[39m.\u001b[39mvalues)\n",
      "\u001b[0;31mNameError\u001b[0m: name 'df_train' is not defined"
     ]
    }
   ],
   "source": [
    "    train_dataset=MovieDataset(users=df_train.user.values,movies=df_train.movie.values,ratings=df_train.rating.values)\n",
    "    valid_dataset=MovieDataset(users=df_valid.user.values,movies=df_valid.movie.values,ratings=df_valid.rating.values)"
   ]
  },
  {
   "cell_type": "code",
   "execution_count": null,
   "metadata": {},
   "outputs": [],
   "source": [
    "if __name__ =='__main__':\n",
    "    train()"
   ]
  }
 ],
 "metadata": {
  "interpreter": {
   "hash": "aee8b7b246df8f9039afb4144a1f6fd8d2ca17a180786b69acc140d282b71a49"
  },
  "kernelspec": {
   "display_name": "Python 3.10.4 64-bit",
   "language": "python",
   "name": "python3"
  },
  "language_info": {
   "codemirror_mode": {
    "name": "ipython",
    "version": 3
   },
   "file_extension": ".py",
   "mimetype": "text/x-python",
   "name": "python",
   "nbconvert_exporter": "python",
   "pygments_lexer": "ipython3",
   "version": "3.10.4"
  },
  "orig_nbformat": 4
 },
 "nbformat": 4,
 "nbformat_minor": 2
}
