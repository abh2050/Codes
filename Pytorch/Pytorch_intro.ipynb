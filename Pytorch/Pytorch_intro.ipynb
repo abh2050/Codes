{
 "cells": [
  {
   "cell_type": "markdown",
   "metadata": {},
   "source": [
    "What is PyTorch?\n",
    "PyTorch is a Python-based scientific computing package serving two broad purposes:\n",
    "\n",
    "A replacement for NumPy to use the power of GPUs and other accelerators.\n",
    "An automatic differentiation library that is useful to implement neural networks.\n",
    "PyTorch is an open source deep learning framework that makes it easy to develop machine learning models and deploy them to production. "
   ]
  },
  {
   "cell_type": "markdown",
   "metadata": {},
   "source": [
    "Import Torch"
   ]
  },
  {
   "cell_type": "code",
   "execution_count": 1,
   "metadata": {},
   "outputs": [],
   "source": [
    "import torch"
   ]
  },
  {
   "cell_type": "markdown",
   "metadata": {},
   "source": [
    "Create a few basic tensor manipulations"
   ]
  },
  {
   "cell_type": "markdown",
   "metadata": {},
   "source": [
    "Create a 5x3 matrix filled with zeros and query it's datatype"
   ]
  },
  {
   "cell_type": "code",
   "execution_count": 2,
   "metadata": {},
   "outputs": [
    {
     "name": "stdout",
     "output_type": "stream",
     "text": [
      "tensor([[0., 0., 0.],\n",
      "        [0., 0., 0.],\n",
      "        [0., 0., 0.],\n",
      "        [0., 0., 0.],\n",
      "        [0., 0., 0.]])\n",
      "torch.float32\n"
     ]
    }
   ],
   "source": [
    "z = torch.zeros(5,3)\n",
    "print(z)\n",
    "print(z.dtype)"
   ]
  },
  {
   "cell_type": "markdown",
   "metadata": {},
   "source": [
    "Convert the Floats into the Int16"
   ]
  },
  {
   "cell_type": "code",
   "execution_count": 3,
   "metadata": {},
   "outputs": [
    {
     "name": "stdout",
     "output_type": "stream",
     "text": [
      "tensor([[1, 1, 1],\n",
      "        [1, 1, 1],\n",
      "        [1, 1, 1],\n",
      "        [1, 1, 1],\n",
      "        [1, 1, 1]], dtype=torch.int16)\n"
     ]
    }
   ],
   "source": [
    "i = torch.ones((5,3),dtype=torch.int16)\n",
    "print(i)"
   ]
  },
  {
   "cell_type": "markdown",
   "metadata": {},
   "source": [
    "As we can see the float was converted into int. We can use the manual seeding to initialize the learning weights randomly, ofter with a specific seed for the PRING for reproducibility of results: "
   ]
  },
  {
   "cell_type": "code",
   "execution_count": 8,
   "metadata": {},
   "outputs": [
    {
     "name": "stdout",
     "output_type": "stream",
     "text": [
      " A random tensor:\n",
      "tensor([[0.3126, 0.3791],\n",
      "        [0.3087, 0.0736]])\n",
      "\n",
      "A different random tensor:\n",
      "tensor([[0.4216, 0.0691],\n",
      "        [0.2332, 0.4047]])\n",
      "tensor([[0.3126, 0.3791],\n",
      "        [0.3087, 0.0736]])\n"
     ]
    }
   ],
   "source": [
    "torch.manual_seed(1729)\n",
    "r1 = torch.rand(2,2)\n",
    "print(\" A random tensor:\")\n",
    "print(r1)\n",
    "\n",
    "r2 =torch.rand(2,2)\n",
    "print('\\nA different random tensor:')\n",
    "print(r2) #new values\n",
    "\n",
    "torch.manual_seed(1729)\n",
    "r3 = torch.rand(2,2)\n",
    "print(r3) #repeates values of r1 because of re-seed"
   ]
  },
  {
   "cell_type": "markdown",
   "metadata": {},
   "source": [
    "PyTorch tensors can perfrm arithmetic operations.Tensors of similar shape may be added, multiplied.etc."
   ]
  },
  {
   "cell_type": "code",
   "execution_count": 7,
   "metadata": {},
   "outputs": [
    {
     "name": "stdout",
     "output_type": "stream",
     "text": [
      "tensor([[1., 1., 1.],\n",
      "        [1., 1., 1.]])\n",
      "tensor([[2., 2., 2.],\n",
      "        [2., 2., 2.]])\n",
      "tensor([[3., 3., 3.],\n",
      "        [3., 3., 3.]])\n",
      "torch.Size([2, 3])\n"
     ]
    }
   ],
   "source": [
    "ones = torch.ones(2,3)\n",
    "print(ones)\n",
    "\n",
    "twos = torch.ones(2,3) *2   #every element is multiplied by 2\n",
    "print(twos)\n",
    "\n",
    "threes = ones + twos         #addition allowed because the shaopes are similar       \n",
    "print(threes)\n",
    "print(threes.shape)\n",
    "\n",
    "r1 = torch.rand(2,3)\n",
    "r2 = torch.rand(2,3)\n",
    "r3 = r1 +r2"
   ]
  },
  {
   "cell_type": "markdown",
   "metadata": {},
   "source": [
    "Some additional mathematical operations in tensors"
   ]
  },
  {
   "cell_type": "code",
   "execution_count": 10,
   "metadata": {},
   "outputs": [
    {
     "name": "stdout",
     "output_type": "stream",
     "text": [
      "A random matrix, r:\n",
      "tensor([[-0.7838, -0.0073],\n",
      "        [-0.5872, -0.4062]])\n",
      "\n",
      "Absolute value of r:\n",
      "tensor([[0.7838, 0.0073],\n",
      "        [0.5872, 0.4062]])\n",
      "\n",
      "Inverse sine of r:\n",
      "tensor([[-0.9007, -0.0073],\n",
      "        [-0.6277, -0.4183]])\n",
      "\n",
      "Determinant of r:\n",
      "tensor(0.3141)\n",
      "\n",
      "Singular value decomposition of r:\n",
      "torch.return_types.svd(\n",
      "U=tensor([[-0.7457, -0.6663],\n",
      "        [-0.6663,  0.7457]]),\n",
      "S=tensor([1.0140, 0.3097]),\n",
      "V=tensor([[ 0.9622,  0.2723],\n",
      "        [ 0.2723, -0.9622]]))\n",
      "\n",
      "Average and Standard deviation of r:\n",
      "(tensor(0.3307), tensor(-0.4461))\n",
      "\n",
      "Maximum value of r:\n",
      "tensor(-0.0073)\n"
     ]
    }
   ],
   "source": [
    "r = torch.rand(2,2) - 0.5* 2 #values between -1 and 1\n",
    "print('A random matrix, r:')\n",
    "print(r)\n",
    "\n",
    "# Common mathematical operations are supported:\n",
    "print('\\nAbsolute value of r:')\n",
    "print(torch.abs(r))\n",
    "\n",
    "#Common trigonometric functions:\n",
    "print('\\nInverse sine of r:')\n",
    "print(torch.asin(r))\n",
    "\n",
    "# Linear algebra operations like determinant and singular value decomposition\n",
    "print('\\nDeterminant of r:')\n",
    "print(torch.det(r))\n",
    "print('\\nSingular value decomposition of r:')\n",
    "print(torch.svd(r))\n",
    "\n",
    "# Statistical and aggregage operations:\n",
    "print('\\nAverage and Standard deviation of r:')\n",
    "print(torch.std_mean(r))\n",
    "print('\\nMaximum value of r:')\n",
    "print(torch.max(r))"
   ]
  }
 ],
 "metadata": {
  "kernelspec": {
   "display_name": "Python 3.10.5 64-bit",
   "language": "python",
   "name": "python3"
  },
  "language_info": {
   "codemirror_mode": {
    "name": "ipython",
    "version": 3
   },
   "file_extension": ".py",
   "mimetype": "text/x-python",
   "name": "python",
   "nbconvert_exporter": "python",
   "pygments_lexer": "ipython3",
   "version": "3.10.5"
  },
  "orig_nbformat": 4,
  "vscode": {
   "interpreter": {
    "hash": "8068673aa2db9f89b434f3dd6802cb726dbf8562f5d7f27fddd94f18e702b44f"
   }
  }
 },
 "nbformat": 4,
 "nbformat_minor": 2
}
