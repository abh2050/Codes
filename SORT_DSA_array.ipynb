{
  "nbformat": 4,
  "nbformat_minor": 0,
  "metadata": {
    "colab": {
      "provenance": [],
      "authorship_tag": "ABX9TyPzQdClr5niIsy6vOIK68Xg",
      "include_colab_link": true
    },
    "kernelspec": {
      "name": "python3",
      "display_name": "Python 3"
    },
    "language_info": {
      "name": "python"
    }
  },
  "cells": [
    {
      "cell_type": "markdown",
      "metadata": {
        "id": "view-in-github",
        "colab_type": "text"
      },
      "source": [
        "<a href=\"https://colab.research.google.com/github/abh2050/Codes/blob/main/SORT_DSA_array.ipynb\" target=\"_parent\"><img src=\"https://colab.research.google.com/assets/colab-badge.svg\" alt=\"Open In Colab\"/></a>"
      ]
    },
    {
      "cell_type": "code",
      "source": [
        "def bubble_sort(elements):\n",
        "  size = len(elements)\n",
        "  \n",
        "  for i in range(size-1):\n",
        "    swapped = False\n",
        "    for j in range(size-1-i):\n",
        "      if elements[j] > elements[j+1]:\n",
        "        tmp = elements[j]\n",
        "        elements[j] = elements[j+1]\n",
        "        elements[j+1] = tmp\n",
        "        swapped = True\n",
        "    \n",
        "    if not swapped:\n",
        "      break\n",
        "\n",
        "\n",
        "\n",
        "# in this process it is better to run the loops only for the elements that is in the wrong position. Running the loops for the data that is already sorted is inefficient.\n",
        "# for that reason, it is important. To take care of this issue we need to do this for j in range(size-1-i). Need to add size - 1-i so it is not looking at the last element\n",
        "# To make sure that the algo is not running all the time for an array that is already sorted; we need to add a swapped flag which will make sure that it is sorted or not. This brings the complexity to n\n",
        "#instead of n^2\n",
        "\n",
        "if __name__ == '__main__':\n",
        "    #elements = [5,9,2,1,67,34,88,34]\n",
        "    #elements = [1,2,3,4,2]\n",
        "    elements = [\"moana\", \"dhbopoo\", \"agjar\", \"sardar\", \"ramadhir\"]\n",
        "\n",
        "    bubble_sort(elements)\n",
        "    print(elements)\n"
      ],
      "metadata": {
        "colab": {
          "base_uri": "https://localhost:8080/"
        },
        "id": "uWXt3hPSZsIi",
        "outputId": "9c0dee92-c882-40b2-b4b4-212c8297e7c2"
      },
      "execution_count": 31,
      "outputs": [
        {
          "output_type": "stream",
          "name": "stdout",
          "text": [
            "['agjar', 'dhbopoo', 'moana', 'ramadhir', 'sardar']\n"
          ]
        }
      ]
    },
    {
      "cell_type": "code",
      "source": [
        "def bubble_sort(elements,key=None):\n",
        "  size = len(elements)\n",
        "  for j in range(size-1):\n",
        "    swapped = False\n",
        "    for i in range(size-1-j):\n",
        "      a = elements[i][key]\n",
        "      b = elements[i+1][key]\n",
        "      if a > b:\n",
        "        temp = elements[i]\n",
        "        elements[i] = elements[i+1]\n",
        "        elements[i+1] = temp\n",
        "        swapped = True\n",
        "    \n",
        "    if not swapped:\n",
        "      break\n",
        "\n",
        "if __name__ == '__main__':\n",
        "  elements = [\n",
        "          { 'name': 'kathy',  'transaction_amount': 200,  'device': 'vivo'},\n",
        "          { 'name': 'dhaval', 'transaction_amount': 400,  'device': 'google pixel'},\n",
        "          { 'name': 'aamir',  'transaction_amount': 800,  'device': 'iphone-8'},\n",
        "          { 'name': 'mona',   'transaction_amount': 1000, 'device': 'iphone-10'},\n",
        "      ]\n",
        "\n",
        "  bubble_sort(elements,key='device')\n",
        "  print(elements)\n"
      ],
      "metadata": {
        "colab": {
          "base_uri": "https://localhost:8080/"
        },
        "id": "2S5SaklVZv72",
        "outputId": "e0074de4-6ea7-4500-fd93-a1c0c45d1946"
      },
      "execution_count": 32,
      "outputs": [
        {
          "output_type": "stream",
          "name": "stdout",
          "text": [
            "[{'name': 'dhaval', 'transaction_amount': 400, 'device': 'google pixel'}, {'name': 'mona', 'transaction_amount': 1000, 'device': 'iphone-10'}, {'name': 'aamir', 'transaction_amount': 800, 'device': 'iphone-8'}, {'name': 'kathy', 'transaction_amount': 200, 'device': 'vivo'}]\n"
          ]
        }
      ]
    },
    {
      "cell_type": "code",
      "source": [
        "#swapping function\n",
        "def swap(a,b,arr):\n",
        "  if a != b:\n",
        "    tmp = arr[a]\n",
        "    arr[a] = arr[b]\n",
        "    arr[b] = tmp\n",
        "\n",
        "#partition function\n",
        "def partition(elements, start, end):\n",
        "#setting the first element as a pivot which is 0\n",
        "  pivot_index = start\n",
        "  pivot = elements[pivot_index]\n",
        "\n",
        "#index definitions for iteration\n",
        "  #start = pivot_index +1 \n",
        "  #end = len(elements) -1\n",
        "\n",
        "#need to run an outer loop\n",
        "  while start < end:\n",
        "\n",
        "\n",
        "#when the start element is less than pivot keep incrementing\n",
        "    while start < len(elements) and elements[start] <= pivot:\n",
        "      start += 1\n",
        "\n",
        "#when the last element is greater than the pivot keep decrementing\n",
        "    while elements[end] >pivot:\n",
        "      end -= 1\n",
        "\n",
        "#Using the swap program and swap only if the start is less than the end\n",
        "    if start < end:\n",
        "      swap(start,end,elements)\n",
        "\n",
        "#need to swap the end with pivot\n",
        "  swap(pivot_index,end,elements)\n",
        "  \n",
        "  return end\n",
        "\n",
        "#setting up the partition index\n",
        "def quick_sort(elements,start,end):\n",
        "  if start < end:\n",
        "    pi = partition(elements,start, end)\n",
        "    quick_sort(elements,start,pi-1) #left partition\n",
        "    quick_sort(elements,pi+1,end) #right partition\n",
        "\n",
        "\n",
        "if __name__ == '__main__':\n",
        "  elements = [11,9,29,7,2,15,28]\n",
        "  quick_sort(elements,0,len(elements)-1)\n",
        "  print(elements)"
      ],
      "metadata": {
        "colab": {
          "base_uri": "https://localhost:8080/"
        },
        "id": "l2jgcZ5QZ3Kw",
        "outputId": "5c93d3c6-ba6a-4ba5-a603-cb08885167ca"
      },
      "execution_count": 33,
      "outputs": [
        {
          "output_type": "stream",
          "name": "stdout",
          "text": [
            "[2, 7, 9, 11, 15, 28, 29]\n"
          ]
        }
      ]
    },
    {
      "cell_type": "code",
      "source": [
        "def insertion_sort(elements):\n",
        "    for i in range(1, len(elements)):\n",
        "       #create an anchor that will be used to sort through the elements\n",
        "        anchor = elements[i]\n",
        "        #use a pointer which will go to the left side of the anchor\n",
        "        j = i - 1\n",
        "        while j >=0 and anchor < elements[j]:\n",
        "            elements[j+1] = elements[j]\n",
        "            j = j - 1\n",
        "        elements[j+1] = anchor\n",
        "\n",
        "if __name__ == '__main__':\n",
        "  elements = [11,9,29,7,2,15,28]\n",
        "  insertion_sort(elements)\n",
        "  print(elements)"
      ],
      "metadata": {
        "colab": {
          "base_uri": "https://localhost:8080/"
        },
        "id": "hy3ejTW-rl_6",
        "outputId": "545ef5fd-8216-4884-bba1-39e12a79a9c0"
      },
      "execution_count": 34,
      "outputs": [
        {
          "output_type": "stream",
          "name": "stdout",
          "text": [
            "[2, 7, 9, 11, 15, 28, 29]\n"
          ]
        }
      ]
    },
    {
      "cell_type": "code",
      "source": [
        "    tests = [\n",
        "        [11,9,29,7,2,15,28],\n",
        "        [3, 7, 9, 11],\n",
        "        [25, 22, 21, 10],\n",
        "        [29, 15, 28],\n",
        "        [],\n",
        "        [6]\n",
        "    ]"
      ],
      "metadata": {
        "id": "qQbQcYHmstpu"
      },
      "execution_count": 35,
      "outputs": []
    },
    {
      "cell_type": "code",
      "source": [
        "    for elements in tests:\n",
        "        insertion_sort(elements)\n",
        "        print(f'sorted array: {elements}')"
      ],
      "metadata": {
        "colab": {
          "base_uri": "https://localhost:8080/"
        },
        "id": "knHmwn9VswDx",
        "outputId": "ecbb8e1a-e09f-4683-988e-00d838bfd081"
      },
      "execution_count": 36,
      "outputs": [
        {
          "output_type": "stream",
          "name": "stdout",
          "text": [
            "sorted array: [2, 7, 9, 11, 15, 28, 29]\n",
            "sorted array: [3, 7, 9, 11]\n",
            "sorted array: [10, 21, 22, 25]\n",
            "sorted array: [15, 28, 29]\n",
            "sorted array: []\n",
            "sorted array: [6]\n"
          ]
        }
      ]
    },
    {
      "cell_type": "code",
      "source": [
        "def merge_sort(arr):\n",
        "  if len(arr) <= 1:\n",
        "    return \n",
        "  \n",
        "  mid = len(arr)//2\n",
        "  \n",
        "  left = arr[:mid]\n",
        "  right = arr[mid:]\n",
        "\n",
        "  merge_sort(left)\n",
        "  merge_sort(right)\n",
        "\n",
        "  return merge_two_sorted_lists(left,right,arr)\n",
        "\n",
        "def merge_two_sorted_lists(a,b,arr):\n",
        "  sorted_list = []\n",
        "  #need to iterate through the lengths of the list until we have finished the lenght\n",
        "  len_a = len(a)\n",
        "  len_b = len(b)\n",
        "  i = j = k = 0\n",
        "\n",
        "\n",
        "  while i < len_a and j < len_b:\n",
        "    if a[i] <= b[j]:\n",
        "      arr[k] = a[i]\n",
        "      i += 1\n",
        "    else:\n",
        "      arr[k] = b[j]\n",
        "      j += 1\n",
        "    \n",
        "    k+=1\n",
        "\n",
        "  while i < len_a:\n",
        "    arr[k] = a[i]\n",
        "    i+=1\n",
        "    k+=1\n",
        "  while j < len_b:\n",
        "    arr[k] = b[j]\n",
        "    j+=1\n",
        "    k+=1\n",
        "\n",
        "\n",
        "if __name__ == '__main__':\n",
        "  arr = [10,3,15,7,8,23,98,29]\n",
        "  merge_sort(arr)\n",
        "  print(arr)"
      ],
      "metadata": {
        "id": "qIc_TlQo1lDf",
        "colab": {
          "base_uri": "https://localhost:8080/"
        },
        "outputId": "d96e4162-d221-4ce9-8aa2-555209b2a723"
      },
      "execution_count": 19,
      "outputs": [
        {
          "output_type": "stream",
          "name": "stdout",
          "text": [
            "[3, 7, 8, 10, 15, 23, 29, 98]\n"
          ]
        }
      ]
    },
    {
      "cell_type": "code",
      "source": [
        "if __name__ == '__main__':\n",
        "    test_cases = [\n",
        "        [10, 3, 15, 7, 8, 23, 98, 29],\n",
        "        [],\n",
        "        [3],\n",
        "        [9,8,7,2],\n",
        "        [1,2,3,4,5]\n",
        "    ]\n",
        "\n",
        "    for arr in test_cases:\n",
        "        merge_sort(arr)\n",
        "        print(arr)"
      ],
      "metadata": {
        "colab": {
          "base_uri": "https://localhost:8080/"
        },
        "id": "OWAnuzeLL00H",
        "outputId": "d18e2101-cb18-4082-8cf7-d3c79756b731"
      },
      "execution_count": 20,
      "outputs": [
        {
          "output_type": "stream",
          "name": "stdout",
          "text": [
            "[3, 7, 8, 10, 15, 23, 29, 98]\n",
            "[]\n",
            "[3]\n",
            "[2, 7, 8, 9]\n",
            "[1, 2, 3, 4, 5]\n"
          ]
        }
      ]
    },
    {
      "cell_type": "code",
      "source": [
        "def shell_sort(arr):\n",
        "  size = len(arr)\n",
        "  gap = size//2\n",
        "\n",
        "  while gap>0:\n",
        "\n",
        "    for i in range(gap,size):\n",
        "      anchor = arr[i]\n",
        "      j = i\n",
        "      while j>=gap and arr[j-gap] > anchor:\n",
        "        arr[j] = arr[j-gap]\n",
        "        j-= gap\n",
        "        arr[j] = anchor\n",
        "    \n",
        "    gap = gap//2\n",
        "\n",
        "if __name__ == '__main__':\n",
        "  elements = [21,38,29,17,4,25,11,32,9]\n",
        "  shell_sort(elements)\n",
        "  print(elements)\n"
      ],
      "metadata": {
        "colab": {
          "base_uri": "https://localhost:8080/"
        },
        "id": "dZZddT5DMxQL",
        "outputId": "c8259956-78ef-49d0-9207-680978fde567"
      },
      "execution_count": 24,
      "outputs": [
        {
          "output_type": "stream",
          "name": "stdout",
          "text": [
            "[4, 9, 11, 17, 21, 25, 29, 32, 38]\n"
          ]
        }
      ]
    },
    {
      "cell_type": "code",
      "source": [
        "if __name__ == '__main__':\n",
        "    tests = [\n",
        "        [89, 78, 61, 53, 23, 21, 17, 12, 9, 7, 6, 2, 1],\n",
        "        [],\n",
        "        [1,5,8,9],\n",
        "        [234,3,1,56,34,12,9,12,1300],\n",
        "        [5]\n",
        "    ]\n",
        "    elements = [89,78,61,53,23,21,17,12,9,7,6,2,1]\n",
        "    for elements in tests:\n",
        "        shell_sort(elements)\n",
        "        print(elements)"
      ],
      "metadata": {
        "colab": {
          "base_uri": "https://localhost:8080/"
        },
        "id": "TXbhyO4kUBd5",
        "outputId": "d2e70788-0a33-47e8-9277-f3eeef3938b2"
      },
      "execution_count": 25,
      "outputs": [
        {
          "output_type": "stream",
          "name": "stdout",
          "text": [
            "[1, 2, 6, 7, 9, 12, 17, 21, 23, 53, 61, 78, 89]\n",
            "[]\n",
            "[1, 5, 8, 9]\n",
            "[1, 3, 9, 12, 12, 34, 56, 234, 1300]\n",
            "[5]\n"
          ]
        }
      ]
    },
    {
      "cell_type": "code",
      "source": [
        "def find_min_elements(arr):\n",
        "  min = 100000\n",
        "  for i in range(len(arr)):\n",
        "    if arr[i] < min:\n",
        "      min = arr[i]\n",
        "  \n",
        "  return min\n",
        "\n",
        "if __name__ == '__main__':\n",
        "  elements = [78,12,15,8,61,53,23,27]\n",
        "  print(find_min_elements(elements))"
      ],
      "metadata": {
        "colab": {
          "base_uri": "https://localhost:8080/"
        },
        "id": "r0LiZQ0eVB5W",
        "outputId": "c0e78b88-555f-4c6d-d6c5-656447e17f5f"
      },
      "execution_count": 27,
      "outputs": [
        {
          "output_type": "stream",
          "name": "stdout",
          "text": [
            "8\n"
          ]
        }
      ]
    },
    {
      "cell_type": "code",
      "source": [
        "def selection_sort(arr):\n",
        "  size = len(arr)\n",
        "  for i in range(size-1):\n",
        "    min_indx = i\n",
        "    for j in range(min_indx+1,size):\n",
        "      if arr[j] < arr[min_indx]:\n",
        "        min_indx = j\n",
        "    \n",
        "    if i != min_indx:\n",
        "      arr[i],arr[min_indx] = arr[min_indx],arr[i]\n",
        "\n",
        "if __name__ == '__main__':\n",
        "  elements = [78,12,15,8,61,53,23,27]\n",
        "  selection_sort(elements)\n",
        "  print(elements)\n"
      ],
      "metadata": {
        "colab": {
          "base_uri": "https://localhost:8080/"
        },
        "id": "y9lIkdasX_H7",
        "outputId": "aac9c736-c4ed-4de2-a510-d9b4b5c44056"
      },
      "execution_count": 29,
      "outputs": [
        {
          "output_type": "stream",
          "name": "stdout",
          "text": [
            "[8, 12, 15, 23, 27, 53, 61, 78]\n"
          ]
        }
      ]
    },
    {
      "cell_type": "code",
      "source": [
        "\n",
        "if __name__ == '__main__':\n",
        "    tests = [\n",
        "        [89, 78, 61, 53, 23, 21, 17, 12, 9, 7, 6, 2, 1],\n",
        "        [],\n",
        "        [1,5,8,9],\n",
        "        [234,3,1,56,34,12,9,12,1300],\n",
        "        [78, 12, 15, 8, 61, 53, 23, 27],\n",
        "        [5]\n",
        "    ]\n",
        "    for elements in tests:\n",
        "        selection_sort(elements)\n",
        "        print(elements)"
      ],
      "metadata": {
        "colab": {
          "base_uri": "https://localhost:8080/"
        },
        "id": "SpCTzYKcZaKA",
        "outputId": "1c03a7ff-2f47-4b99-83d8-2204277e54a9"
      },
      "execution_count": 30,
      "outputs": [
        {
          "output_type": "stream",
          "name": "stdout",
          "text": [
            "[1, 2, 6, 7, 9, 12, 17, 21, 23, 53, 61, 78, 89]\n",
            "[]\n",
            "[1, 5, 8, 9]\n",
            "[1, 3, 9, 12, 12, 34, 56, 234, 1300]\n",
            "[8, 12, 15, 23, 27, 53, 61, 78]\n",
            "[5]\n"
          ]
        }
      ]
    }
  ]
}