{
  "nbformat": 4,
  "nbformat_minor": 0,
  "metadata": {
    "colab": {
      "provenance": [],
      "toc_visible": true
    },
    "kernelspec": {
      "name": "python3",
      "display_name": "Python 3"
    },
    "language_info": {
      "name": "python"
    },
    "accelerator": "TPU"
  },
  "cells": [
    {
      "cell_type": "markdown",
      "source": [
        "Importing all the libraries"
      ],
      "metadata": {
        "id": "tmL48y4sBJr3"
      }
    },
    {
      "cell_type": "code",
      "source": [
        "!pip install --upgrade scikit-learn"
      ],
      "metadata": {
        "colab": {
          "base_uri": "https://localhost:8080/"
        },
        "id": "I_CVzWEFQVWq",
        "outputId": "4bf87bc9-35c2-4b8f-fbaa-a707405cdebe"
      },
      "execution_count": 13,
      "outputs": [
        {
          "output_type": "stream",
          "name": "stdout",
          "text": [
            "Looking in indexes: https://pypi.org/simple, https://us-python.pkg.dev/colab-wheels/public/simple/\n",
            "Requirement already satisfied: scikit-learn in /usr/local/lib/python3.10/dist-packages (1.2.2)\n",
            "Requirement already satisfied: numpy>=1.17.3 in /usr/local/lib/python3.10/dist-packages (from scikit-learn) (1.22.4)\n",
            "Requirement already satisfied: scipy>=1.3.2 in /usr/local/lib/python3.10/dist-packages (from scikit-learn) (1.10.1)\n",
            "Requirement already satisfied: joblib>=1.1.1 in /usr/local/lib/python3.10/dist-packages (from scikit-learn) (1.2.0)\n",
            "Requirement already satisfied: threadpoolctl>=2.0.0 in /usr/local/lib/python3.10/dist-packages (from scikit-learn) (3.1.0)\n"
          ]
        }
      ]
    },
    {
      "cell_type": "code",
      "execution_count": 14,
      "metadata": {
        "id": "IctR4bbl0N31"
      },
      "outputs": [],
      "source": [
        "import pandas as pd\n",
        "from scipy.stats import pearsonr, spearmanr, kendalltau\n",
        "from sklearn.preprocessing import StandardScaler\n",
        "import matplotlib.pyplot as plt\n",
        "import seaborn as sns\n"
      ]
    },
    {
      "cell_type": "code",
      "source": [
        "from google.colab import drive\n",
        "drive.mount('/content/drive')"
      ],
      "metadata": {
        "colab": {
          "base_uri": "https://localhost:8080/"
        },
        "id": "BwOID_cKCf2g",
        "outputId": "8ea3c215-ddee-4cdd-80ba-a1adc5e6b729"
      },
      "execution_count": 15,
      "outputs": [
        {
          "output_type": "stream",
          "name": "stdout",
          "text": [
            "Drive already mounted at /content/drive; to attempt to forcibly remount, call drive.mount(\"/content/drive\", force_remount=True).\n"
          ]
        }
      ]
    },
    {
      "cell_type": "code",
      "source": [
        "nba_df = pd.read_excel('/content/sample_data/NBA_Stats_71_Years.xlsx')"
      ],
      "metadata": {
        "id": "8m_sm2vJC0NK"
      },
      "execution_count": 16,
      "outputs": []
    },
    {
      "cell_type": "code",
      "source": [
        "heart_df = pd.read_csv('/content/sample_data/sample_dataheart.csv')"
      ],
      "metadata": {
        "id": "SwLiJ_owDTx5",
        "colab": {
          "base_uri": "https://localhost:8080/",
          "height": 336
        },
        "outputId": "04d32ccf-07ab-471b-b0c1-64a2c99f4b3e"
      },
      "execution_count": 18,
      "outputs": [
        {
          "output_type": "error",
          "ename": "FileNotFoundError",
          "evalue": "ignored",
          "traceback": [
            "\u001b[0;31m---------------------------------------------------------------------------\u001b[0m",
            "\u001b[0;31mFileNotFoundError\u001b[0m                         Traceback (most recent call last)",
            "\u001b[0;32m<ipython-input-18-2d5fcc7110f8>\u001b[0m in \u001b[0;36m<cell line: 1>\u001b[0;34m()\u001b[0m\n\u001b[0;32m----> 1\u001b[0;31m \u001b[0mheart_df\u001b[0m \u001b[0;34m=\u001b[0m \u001b[0mpd\u001b[0m\u001b[0;34m.\u001b[0m\u001b[0mread_csv\u001b[0m\u001b[0;34m(\u001b[0m\u001b[0;34m'/content/sample_data/sample_dataheart.csv'\u001b[0m\u001b[0;34m)\u001b[0m\u001b[0;34m\u001b[0m\u001b[0;34m\u001b[0m\u001b[0m\n\u001b[0m",
            "\u001b[0;32m/usr/local/lib/python3.10/dist-packages/pandas/util/_decorators.py\u001b[0m in \u001b[0;36mwrapper\u001b[0;34m(*args, **kwargs)\u001b[0m\n\u001b[1;32m    209\u001b[0m                 \u001b[0;32melse\u001b[0m\u001b[0;34m:\u001b[0m\u001b[0;34m\u001b[0m\u001b[0;34m\u001b[0m\u001b[0m\n\u001b[1;32m    210\u001b[0m                     \u001b[0mkwargs\u001b[0m\u001b[0;34m[\u001b[0m\u001b[0mnew_arg_name\u001b[0m\u001b[0;34m]\u001b[0m \u001b[0;34m=\u001b[0m \u001b[0mnew_arg_value\u001b[0m\u001b[0;34m\u001b[0m\u001b[0;34m\u001b[0m\u001b[0m\n\u001b[0;32m--> 211\u001b[0;31m             \u001b[0;32mreturn\u001b[0m \u001b[0mfunc\u001b[0m\u001b[0;34m(\u001b[0m\u001b[0;34m*\u001b[0m\u001b[0margs\u001b[0m\u001b[0;34m,\u001b[0m \u001b[0;34m**\u001b[0m\u001b[0mkwargs\u001b[0m\u001b[0;34m)\u001b[0m\u001b[0;34m\u001b[0m\u001b[0;34m\u001b[0m\u001b[0m\n\u001b[0m\u001b[1;32m    212\u001b[0m \u001b[0;34m\u001b[0m\u001b[0m\n\u001b[1;32m    213\u001b[0m         \u001b[0;32mreturn\u001b[0m \u001b[0mcast\u001b[0m\u001b[0;34m(\u001b[0m\u001b[0mF\u001b[0m\u001b[0;34m,\u001b[0m \u001b[0mwrapper\u001b[0m\u001b[0;34m)\u001b[0m\u001b[0;34m\u001b[0m\u001b[0;34m\u001b[0m\u001b[0m\n",
            "\u001b[0;32m/usr/local/lib/python3.10/dist-packages/pandas/util/_decorators.py\u001b[0m in \u001b[0;36mwrapper\u001b[0;34m(*args, **kwargs)\u001b[0m\n\u001b[1;32m    329\u001b[0m                     \u001b[0mstacklevel\u001b[0m\u001b[0;34m=\u001b[0m\u001b[0mfind_stack_level\u001b[0m\u001b[0;34m(\u001b[0m\u001b[0;34m)\u001b[0m\u001b[0;34m,\u001b[0m\u001b[0;34m\u001b[0m\u001b[0;34m\u001b[0m\u001b[0m\n\u001b[1;32m    330\u001b[0m                 )\n\u001b[0;32m--> 331\u001b[0;31m             \u001b[0;32mreturn\u001b[0m \u001b[0mfunc\u001b[0m\u001b[0;34m(\u001b[0m\u001b[0;34m*\u001b[0m\u001b[0margs\u001b[0m\u001b[0;34m,\u001b[0m \u001b[0;34m**\u001b[0m\u001b[0mkwargs\u001b[0m\u001b[0;34m)\u001b[0m\u001b[0;34m\u001b[0m\u001b[0;34m\u001b[0m\u001b[0m\n\u001b[0m\u001b[1;32m    332\u001b[0m \u001b[0;34m\u001b[0m\u001b[0m\n\u001b[1;32m    333\u001b[0m         \u001b[0;31m# error: \"Callable[[VarArg(Any), KwArg(Any)], Any]\" has no\u001b[0m\u001b[0;34m\u001b[0m\u001b[0;34m\u001b[0m\u001b[0m\n",
            "\u001b[0;32m/usr/local/lib/python3.10/dist-packages/pandas/io/parsers/readers.py\u001b[0m in \u001b[0;36mread_csv\u001b[0;34m(filepath_or_buffer, sep, delimiter, header, names, index_col, usecols, squeeze, prefix, mangle_dupe_cols, dtype, engine, converters, true_values, false_values, skipinitialspace, skiprows, skipfooter, nrows, na_values, keep_default_na, na_filter, verbose, skip_blank_lines, parse_dates, infer_datetime_format, keep_date_col, date_parser, dayfirst, cache_dates, iterator, chunksize, compression, thousands, decimal, lineterminator, quotechar, quoting, doublequote, escapechar, comment, encoding, encoding_errors, dialect, error_bad_lines, warn_bad_lines, on_bad_lines, delim_whitespace, low_memory, memory_map, float_precision, storage_options)\u001b[0m\n\u001b[1;32m    948\u001b[0m     \u001b[0mkwds\u001b[0m\u001b[0;34m.\u001b[0m\u001b[0mupdate\u001b[0m\u001b[0;34m(\u001b[0m\u001b[0mkwds_defaults\u001b[0m\u001b[0;34m)\u001b[0m\u001b[0;34m\u001b[0m\u001b[0;34m\u001b[0m\u001b[0m\n\u001b[1;32m    949\u001b[0m \u001b[0;34m\u001b[0m\u001b[0m\n\u001b[0;32m--> 950\u001b[0;31m     \u001b[0;32mreturn\u001b[0m \u001b[0m_read\u001b[0m\u001b[0;34m(\u001b[0m\u001b[0mfilepath_or_buffer\u001b[0m\u001b[0;34m,\u001b[0m \u001b[0mkwds\u001b[0m\u001b[0;34m)\u001b[0m\u001b[0;34m\u001b[0m\u001b[0;34m\u001b[0m\u001b[0m\n\u001b[0m\u001b[1;32m    951\u001b[0m \u001b[0;34m\u001b[0m\u001b[0m\n\u001b[1;32m    952\u001b[0m \u001b[0;34m\u001b[0m\u001b[0m\n",
            "\u001b[0;32m/usr/local/lib/python3.10/dist-packages/pandas/io/parsers/readers.py\u001b[0m in \u001b[0;36m_read\u001b[0;34m(filepath_or_buffer, kwds)\u001b[0m\n\u001b[1;32m    603\u001b[0m \u001b[0;34m\u001b[0m\u001b[0m\n\u001b[1;32m    604\u001b[0m     \u001b[0;31m# Create the parser.\u001b[0m\u001b[0;34m\u001b[0m\u001b[0;34m\u001b[0m\u001b[0m\n\u001b[0;32m--> 605\u001b[0;31m     \u001b[0mparser\u001b[0m \u001b[0;34m=\u001b[0m \u001b[0mTextFileReader\u001b[0m\u001b[0;34m(\u001b[0m\u001b[0mfilepath_or_buffer\u001b[0m\u001b[0;34m,\u001b[0m \u001b[0;34m**\u001b[0m\u001b[0mkwds\u001b[0m\u001b[0;34m)\u001b[0m\u001b[0;34m\u001b[0m\u001b[0;34m\u001b[0m\u001b[0m\n\u001b[0m\u001b[1;32m    606\u001b[0m \u001b[0;34m\u001b[0m\u001b[0m\n\u001b[1;32m    607\u001b[0m     \u001b[0;32mif\u001b[0m \u001b[0mchunksize\u001b[0m \u001b[0;32mor\u001b[0m \u001b[0miterator\u001b[0m\u001b[0;34m:\u001b[0m\u001b[0;34m\u001b[0m\u001b[0;34m\u001b[0m\u001b[0m\n",
            "\u001b[0;32m/usr/local/lib/python3.10/dist-packages/pandas/io/parsers/readers.py\u001b[0m in \u001b[0;36m__init__\u001b[0;34m(self, f, engine, **kwds)\u001b[0m\n\u001b[1;32m   1440\u001b[0m \u001b[0;34m\u001b[0m\u001b[0m\n\u001b[1;32m   1441\u001b[0m         \u001b[0mself\u001b[0m\u001b[0;34m.\u001b[0m\u001b[0mhandles\u001b[0m\u001b[0;34m:\u001b[0m \u001b[0mIOHandles\u001b[0m \u001b[0;34m|\u001b[0m \u001b[0;32mNone\u001b[0m \u001b[0;34m=\u001b[0m \u001b[0;32mNone\u001b[0m\u001b[0;34m\u001b[0m\u001b[0;34m\u001b[0m\u001b[0m\n\u001b[0;32m-> 1442\u001b[0;31m         \u001b[0mself\u001b[0m\u001b[0;34m.\u001b[0m\u001b[0m_engine\u001b[0m \u001b[0;34m=\u001b[0m \u001b[0mself\u001b[0m\u001b[0;34m.\u001b[0m\u001b[0m_make_engine\u001b[0m\u001b[0;34m(\u001b[0m\u001b[0mf\u001b[0m\u001b[0;34m,\u001b[0m \u001b[0mself\u001b[0m\u001b[0;34m.\u001b[0m\u001b[0mengine\u001b[0m\u001b[0;34m)\u001b[0m\u001b[0;34m\u001b[0m\u001b[0;34m\u001b[0m\u001b[0m\n\u001b[0m\u001b[1;32m   1443\u001b[0m \u001b[0;34m\u001b[0m\u001b[0m\n\u001b[1;32m   1444\u001b[0m     \u001b[0;32mdef\u001b[0m \u001b[0mclose\u001b[0m\u001b[0;34m(\u001b[0m\u001b[0mself\u001b[0m\u001b[0;34m)\u001b[0m \u001b[0;34m->\u001b[0m \u001b[0;32mNone\u001b[0m\u001b[0;34m:\u001b[0m\u001b[0;34m\u001b[0m\u001b[0;34m\u001b[0m\u001b[0m\n",
            "\u001b[0;32m/usr/local/lib/python3.10/dist-packages/pandas/io/parsers/readers.py\u001b[0m in \u001b[0;36m_make_engine\u001b[0;34m(self, f, engine)\u001b[0m\n\u001b[1;32m   1733\u001b[0m                 \u001b[0;32mif\u001b[0m \u001b[0;34m\"b\"\u001b[0m \u001b[0;32mnot\u001b[0m \u001b[0;32min\u001b[0m \u001b[0mmode\u001b[0m\u001b[0;34m:\u001b[0m\u001b[0;34m\u001b[0m\u001b[0;34m\u001b[0m\u001b[0m\n\u001b[1;32m   1734\u001b[0m                     \u001b[0mmode\u001b[0m \u001b[0;34m+=\u001b[0m \u001b[0;34m\"b\"\u001b[0m\u001b[0;34m\u001b[0m\u001b[0;34m\u001b[0m\u001b[0m\n\u001b[0;32m-> 1735\u001b[0;31m             self.handles = get_handle(\n\u001b[0m\u001b[1;32m   1736\u001b[0m                 \u001b[0mf\u001b[0m\u001b[0;34m,\u001b[0m\u001b[0;34m\u001b[0m\u001b[0;34m\u001b[0m\u001b[0m\n\u001b[1;32m   1737\u001b[0m                 \u001b[0mmode\u001b[0m\u001b[0;34m,\u001b[0m\u001b[0;34m\u001b[0m\u001b[0;34m\u001b[0m\u001b[0m\n",
            "\u001b[0;32m/usr/local/lib/python3.10/dist-packages/pandas/io/common.py\u001b[0m in \u001b[0;36mget_handle\u001b[0;34m(path_or_buf, mode, encoding, compression, memory_map, is_text, errors, storage_options)\u001b[0m\n\u001b[1;32m    854\u001b[0m         \u001b[0;32mif\u001b[0m \u001b[0mioargs\u001b[0m\u001b[0;34m.\u001b[0m\u001b[0mencoding\u001b[0m \u001b[0;32mand\u001b[0m \u001b[0;34m\"b\"\u001b[0m \u001b[0;32mnot\u001b[0m \u001b[0;32min\u001b[0m \u001b[0mioargs\u001b[0m\u001b[0;34m.\u001b[0m\u001b[0mmode\u001b[0m\u001b[0;34m:\u001b[0m\u001b[0;34m\u001b[0m\u001b[0;34m\u001b[0m\u001b[0m\n\u001b[1;32m    855\u001b[0m             \u001b[0;31m# Encoding\u001b[0m\u001b[0;34m\u001b[0m\u001b[0;34m\u001b[0m\u001b[0m\n\u001b[0;32m--> 856\u001b[0;31m             handle = open(\n\u001b[0m\u001b[1;32m    857\u001b[0m                 \u001b[0mhandle\u001b[0m\u001b[0;34m,\u001b[0m\u001b[0;34m\u001b[0m\u001b[0;34m\u001b[0m\u001b[0m\n\u001b[1;32m    858\u001b[0m                 \u001b[0mioargs\u001b[0m\u001b[0;34m.\u001b[0m\u001b[0mmode\u001b[0m\u001b[0;34m,\u001b[0m\u001b[0;34m\u001b[0m\u001b[0;34m\u001b[0m\u001b[0m\n",
            "\u001b[0;31mFileNotFoundError\u001b[0m: [Errno 2] No such file or directory: '/content/sample_data/sample_dataheart.csv'"
          ]
        }
      ]
    },
    {
      "cell_type": "code",
      "source": [
        "mcdonald_df =pd.read_csv('/content/sample_datamcdonaldata.csv')"
      ],
      "metadata": {
        "id": "0BCo2mS1Dsmc",
        "colab": {
          "base_uri": "https://localhost:8080/",
          "height": 336
        },
        "outputId": "30707a19-a6ee-43d7-cdaf-d14cba323006"
      },
      "execution_count": 19,
      "outputs": [
        {
          "output_type": "error",
          "ename": "FileNotFoundError",
          "evalue": "ignored",
          "traceback": [
            "\u001b[0;31m---------------------------------------------------------------------------\u001b[0m",
            "\u001b[0;31mFileNotFoundError\u001b[0m                         Traceback (most recent call last)",
            "\u001b[0;32m<ipython-input-19-f929985a375b>\u001b[0m in \u001b[0;36m<cell line: 1>\u001b[0;34m()\u001b[0m\n\u001b[0;32m----> 1\u001b[0;31m \u001b[0mmcdonald_df\u001b[0m \u001b[0;34m=\u001b[0m\u001b[0mpd\u001b[0m\u001b[0;34m.\u001b[0m\u001b[0mread_csv\u001b[0m\u001b[0;34m(\u001b[0m\u001b[0;34m'/content/sample_datamcdonaldata.csv'\u001b[0m\u001b[0;34m)\u001b[0m\u001b[0;34m\u001b[0m\u001b[0;34m\u001b[0m\u001b[0m\n\u001b[0m",
            "\u001b[0;32m/usr/local/lib/python3.10/dist-packages/pandas/util/_decorators.py\u001b[0m in \u001b[0;36mwrapper\u001b[0;34m(*args, **kwargs)\u001b[0m\n\u001b[1;32m    209\u001b[0m                 \u001b[0;32melse\u001b[0m\u001b[0;34m:\u001b[0m\u001b[0;34m\u001b[0m\u001b[0;34m\u001b[0m\u001b[0m\n\u001b[1;32m    210\u001b[0m                     \u001b[0mkwargs\u001b[0m\u001b[0;34m[\u001b[0m\u001b[0mnew_arg_name\u001b[0m\u001b[0;34m]\u001b[0m \u001b[0;34m=\u001b[0m \u001b[0mnew_arg_value\u001b[0m\u001b[0;34m\u001b[0m\u001b[0;34m\u001b[0m\u001b[0m\n\u001b[0;32m--> 211\u001b[0;31m             \u001b[0;32mreturn\u001b[0m \u001b[0mfunc\u001b[0m\u001b[0;34m(\u001b[0m\u001b[0;34m*\u001b[0m\u001b[0margs\u001b[0m\u001b[0;34m,\u001b[0m \u001b[0;34m**\u001b[0m\u001b[0mkwargs\u001b[0m\u001b[0;34m)\u001b[0m\u001b[0;34m\u001b[0m\u001b[0;34m\u001b[0m\u001b[0m\n\u001b[0m\u001b[1;32m    212\u001b[0m \u001b[0;34m\u001b[0m\u001b[0m\n\u001b[1;32m    213\u001b[0m         \u001b[0;32mreturn\u001b[0m \u001b[0mcast\u001b[0m\u001b[0;34m(\u001b[0m\u001b[0mF\u001b[0m\u001b[0;34m,\u001b[0m \u001b[0mwrapper\u001b[0m\u001b[0;34m)\u001b[0m\u001b[0;34m\u001b[0m\u001b[0;34m\u001b[0m\u001b[0m\n",
            "\u001b[0;32m/usr/local/lib/python3.10/dist-packages/pandas/util/_decorators.py\u001b[0m in \u001b[0;36mwrapper\u001b[0;34m(*args, **kwargs)\u001b[0m\n\u001b[1;32m    329\u001b[0m                     \u001b[0mstacklevel\u001b[0m\u001b[0;34m=\u001b[0m\u001b[0mfind_stack_level\u001b[0m\u001b[0;34m(\u001b[0m\u001b[0;34m)\u001b[0m\u001b[0;34m,\u001b[0m\u001b[0;34m\u001b[0m\u001b[0;34m\u001b[0m\u001b[0m\n\u001b[1;32m    330\u001b[0m                 )\n\u001b[0;32m--> 331\u001b[0;31m             \u001b[0;32mreturn\u001b[0m \u001b[0mfunc\u001b[0m\u001b[0;34m(\u001b[0m\u001b[0;34m*\u001b[0m\u001b[0margs\u001b[0m\u001b[0;34m,\u001b[0m \u001b[0;34m**\u001b[0m\u001b[0mkwargs\u001b[0m\u001b[0;34m)\u001b[0m\u001b[0;34m\u001b[0m\u001b[0;34m\u001b[0m\u001b[0m\n\u001b[0m\u001b[1;32m    332\u001b[0m \u001b[0;34m\u001b[0m\u001b[0m\n\u001b[1;32m    333\u001b[0m         \u001b[0;31m# error: \"Callable[[VarArg(Any), KwArg(Any)], Any]\" has no\u001b[0m\u001b[0;34m\u001b[0m\u001b[0;34m\u001b[0m\u001b[0m\n",
            "\u001b[0;32m/usr/local/lib/python3.10/dist-packages/pandas/io/parsers/readers.py\u001b[0m in \u001b[0;36mread_csv\u001b[0;34m(filepath_or_buffer, sep, delimiter, header, names, index_col, usecols, squeeze, prefix, mangle_dupe_cols, dtype, engine, converters, true_values, false_values, skipinitialspace, skiprows, skipfooter, nrows, na_values, keep_default_na, na_filter, verbose, skip_blank_lines, parse_dates, infer_datetime_format, keep_date_col, date_parser, dayfirst, cache_dates, iterator, chunksize, compression, thousands, decimal, lineterminator, quotechar, quoting, doublequote, escapechar, comment, encoding, encoding_errors, dialect, error_bad_lines, warn_bad_lines, on_bad_lines, delim_whitespace, low_memory, memory_map, float_precision, storage_options)\u001b[0m\n\u001b[1;32m    948\u001b[0m     \u001b[0mkwds\u001b[0m\u001b[0;34m.\u001b[0m\u001b[0mupdate\u001b[0m\u001b[0;34m(\u001b[0m\u001b[0mkwds_defaults\u001b[0m\u001b[0;34m)\u001b[0m\u001b[0;34m\u001b[0m\u001b[0;34m\u001b[0m\u001b[0m\n\u001b[1;32m    949\u001b[0m \u001b[0;34m\u001b[0m\u001b[0m\n\u001b[0;32m--> 950\u001b[0;31m     \u001b[0;32mreturn\u001b[0m \u001b[0m_read\u001b[0m\u001b[0;34m(\u001b[0m\u001b[0mfilepath_or_buffer\u001b[0m\u001b[0;34m,\u001b[0m \u001b[0mkwds\u001b[0m\u001b[0;34m)\u001b[0m\u001b[0;34m\u001b[0m\u001b[0;34m\u001b[0m\u001b[0m\n\u001b[0m\u001b[1;32m    951\u001b[0m \u001b[0;34m\u001b[0m\u001b[0m\n\u001b[1;32m    952\u001b[0m \u001b[0;34m\u001b[0m\u001b[0m\n",
            "\u001b[0;32m/usr/local/lib/python3.10/dist-packages/pandas/io/parsers/readers.py\u001b[0m in \u001b[0;36m_read\u001b[0;34m(filepath_or_buffer, kwds)\u001b[0m\n\u001b[1;32m    603\u001b[0m \u001b[0;34m\u001b[0m\u001b[0m\n\u001b[1;32m    604\u001b[0m     \u001b[0;31m# Create the parser.\u001b[0m\u001b[0;34m\u001b[0m\u001b[0;34m\u001b[0m\u001b[0m\n\u001b[0;32m--> 605\u001b[0;31m     \u001b[0mparser\u001b[0m \u001b[0;34m=\u001b[0m \u001b[0mTextFileReader\u001b[0m\u001b[0;34m(\u001b[0m\u001b[0mfilepath_or_buffer\u001b[0m\u001b[0;34m,\u001b[0m \u001b[0;34m**\u001b[0m\u001b[0mkwds\u001b[0m\u001b[0;34m)\u001b[0m\u001b[0;34m\u001b[0m\u001b[0;34m\u001b[0m\u001b[0m\n\u001b[0m\u001b[1;32m    606\u001b[0m \u001b[0;34m\u001b[0m\u001b[0m\n\u001b[1;32m    607\u001b[0m     \u001b[0;32mif\u001b[0m \u001b[0mchunksize\u001b[0m \u001b[0;32mor\u001b[0m \u001b[0miterator\u001b[0m\u001b[0;34m:\u001b[0m\u001b[0;34m\u001b[0m\u001b[0;34m\u001b[0m\u001b[0m\n",
            "\u001b[0;32m/usr/local/lib/python3.10/dist-packages/pandas/io/parsers/readers.py\u001b[0m in \u001b[0;36m__init__\u001b[0;34m(self, f, engine, **kwds)\u001b[0m\n\u001b[1;32m   1440\u001b[0m \u001b[0;34m\u001b[0m\u001b[0m\n\u001b[1;32m   1441\u001b[0m         \u001b[0mself\u001b[0m\u001b[0;34m.\u001b[0m\u001b[0mhandles\u001b[0m\u001b[0;34m:\u001b[0m \u001b[0mIOHandles\u001b[0m \u001b[0;34m|\u001b[0m \u001b[0;32mNone\u001b[0m \u001b[0;34m=\u001b[0m \u001b[0;32mNone\u001b[0m\u001b[0;34m\u001b[0m\u001b[0;34m\u001b[0m\u001b[0m\n\u001b[0;32m-> 1442\u001b[0;31m         \u001b[0mself\u001b[0m\u001b[0;34m.\u001b[0m\u001b[0m_engine\u001b[0m \u001b[0;34m=\u001b[0m \u001b[0mself\u001b[0m\u001b[0;34m.\u001b[0m\u001b[0m_make_engine\u001b[0m\u001b[0;34m(\u001b[0m\u001b[0mf\u001b[0m\u001b[0;34m,\u001b[0m \u001b[0mself\u001b[0m\u001b[0;34m.\u001b[0m\u001b[0mengine\u001b[0m\u001b[0;34m)\u001b[0m\u001b[0;34m\u001b[0m\u001b[0;34m\u001b[0m\u001b[0m\n\u001b[0m\u001b[1;32m   1443\u001b[0m \u001b[0;34m\u001b[0m\u001b[0m\n\u001b[1;32m   1444\u001b[0m     \u001b[0;32mdef\u001b[0m \u001b[0mclose\u001b[0m\u001b[0;34m(\u001b[0m\u001b[0mself\u001b[0m\u001b[0;34m)\u001b[0m \u001b[0;34m->\u001b[0m \u001b[0;32mNone\u001b[0m\u001b[0;34m:\u001b[0m\u001b[0;34m\u001b[0m\u001b[0;34m\u001b[0m\u001b[0m\n",
            "\u001b[0;32m/usr/local/lib/python3.10/dist-packages/pandas/io/parsers/readers.py\u001b[0m in \u001b[0;36m_make_engine\u001b[0;34m(self, f, engine)\u001b[0m\n\u001b[1;32m   1733\u001b[0m                 \u001b[0;32mif\u001b[0m \u001b[0;34m\"b\"\u001b[0m \u001b[0;32mnot\u001b[0m \u001b[0;32min\u001b[0m \u001b[0mmode\u001b[0m\u001b[0;34m:\u001b[0m\u001b[0;34m\u001b[0m\u001b[0;34m\u001b[0m\u001b[0m\n\u001b[1;32m   1734\u001b[0m                     \u001b[0mmode\u001b[0m \u001b[0;34m+=\u001b[0m \u001b[0;34m\"b\"\u001b[0m\u001b[0;34m\u001b[0m\u001b[0;34m\u001b[0m\u001b[0m\n\u001b[0;32m-> 1735\u001b[0;31m             self.handles = get_handle(\n\u001b[0m\u001b[1;32m   1736\u001b[0m                 \u001b[0mf\u001b[0m\u001b[0;34m,\u001b[0m\u001b[0;34m\u001b[0m\u001b[0;34m\u001b[0m\u001b[0m\n\u001b[1;32m   1737\u001b[0m                 \u001b[0mmode\u001b[0m\u001b[0;34m,\u001b[0m\u001b[0;34m\u001b[0m\u001b[0;34m\u001b[0m\u001b[0m\n",
            "\u001b[0;32m/usr/local/lib/python3.10/dist-packages/pandas/io/common.py\u001b[0m in \u001b[0;36mget_handle\u001b[0;34m(path_or_buf, mode, encoding, compression, memory_map, is_text, errors, storage_options)\u001b[0m\n\u001b[1;32m    854\u001b[0m         \u001b[0;32mif\u001b[0m \u001b[0mioargs\u001b[0m\u001b[0;34m.\u001b[0m\u001b[0mencoding\u001b[0m \u001b[0;32mand\u001b[0m \u001b[0;34m\"b\"\u001b[0m \u001b[0;32mnot\u001b[0m \u001b[0;32min\u001b[0m \u001b[0mioargs\u001b[0m\u001b[0;34m.\u001b[0m\u001b[0mmode\u001b[0m\u001b[0;34m:\u001b[0m\u001b[0;34m\u001b[0m\u001b[0;34m\u001b[0m\u001b[0m\n\u001b[1;32m    855\u001b[0m             \u001b[0;31m# Encoding\u001b[0m\u001b[0;34m\u001b[0m\u001b[0;34m\u001b[0m\u001b[0m\n\u001b[0;32m--> 856\u001b[0;31m             handle = open(\n\u001b[0m\u001b[1;32m    857\u001b[0m                 \u001b[0mhandle\u001b[0m\u001b[0;34m,\u001b[0m\u001b[0;34m\u001b[0m\u001b[0;34m\u001b[0m\u001b[0m\n\u001b[1;32m    858\u001b[0m                 \u001b[0mioargs\u001b[0m\u001b[0;34m.\u001b[0m\u001b[0mmode\u001b[0m\u001b[0;34m,\u001b[0m\u001b[0;34m\u001b[0m\u001b[0;34m\u001b[0m\u001b[0m\n",
            "\u001b[0;31mFileNotFoundError\u001b[0m: [Errno 2] No such file or directory: '/content/sample_datamcdonaldata.csv'"
          ]
        }
      ]
    },
    {
      "cell_type": "code",
      "source": [
        "supercharge_df = pd.read_csv('/content/sample_data/supercharge.csv', encoding='latin1')"
      ],
      "metadata": {
        "id": "FMKlh6H9EC-o"
      },
      "execution_count": null,
      "outputs": []
    },
    {
      "cell_type": "code",
      "source": [
        "nba_df.head()"
      ],
      "metadata": {
        "id": "Qt9iV17nEMue"
      },
      "execution_count": null,
      "outputs": []
    },
    {
      "cell_type": "code",
      "source": [
        "# Get a summary of the dataset\n",
        "print(nba_df.info())\n"
      ],
      "metadata": {
        "id": "ha68YA1YGBNA"
      },
      "execution_count": null,
      "outputs": []
    },
    {
      "cell_type": "code",
      "source": [
        "# Check basic statistics of the numeric columns\n",
        "print(nba_df.describe())"
      ],
      "metadata": {
        "id": "AiYXt344GQqu"
      },
      "execution_count": null,
      "outputs": []
    },
    {
      "cell_type": "code",
      "source": [
        "# Identify columns with missing values\n",
        "missing_values = nba_df.isnull().sum()\n",
        "print(missing_values)"
      ],
      "metadata": {
        "id": "fVQHRSuiGbKF"
      },
      "execution_count": null,
      "outputs": []
    },
    {
      "cell_type": "code",
      "source": [
        "df_nba = nba_df.fillna(nba_df.mean())  # Fill missing values with the mean\n"
      ],
      "metadata": {
        "id": "-zz9DydTGjvj"
      },
      "execution_count": null,
      "outputs": []
    },
    {
      "cell_type": "code",
      "source": [
        "missing_values = df_nba.isnull().sum()\n",
        "print(missing_values)"
      ],
      "metadata": {
        "id": "wJnYpCMkG1Zg"
      },
      "execution_count": null,
      "outputs": []
    },
    {
      "cell_type": "markdown",
      "source": [
        "For this project, we will be focusing on Points Scored which will be predicting or analyzing the scoring performance of players so the \"Points Scored\" column could be a suitable target variable. It represents the total number of points a player has scored. But before we do that we will be doing some EDA."
      ],
      "metadata": {
        "id": "2kZrzQ7xHURz"
      }
    },
    {
      "cell_type": "code",
      "source": [
        "df_nba.Team.unique()"
      ],
      "metadata": {
        "id": "RB43n7TgJ-Yj"
      },
      "execution_count": null,
      "outputs": []
    },
    {
      "cell_type": "code",
      "source": [
        "# Bar plot\n",
        "plt.figure(figsize=(10,6))\n",
        "df_nba.groupby('Player')['Points Scored'].sum().sort_values(ascending=False).head(10).plot(kind='bar')\n",
        "plt.title('Top 10 Players by Points Scored')\n",
        "plt.xlabel('Player')\n",
        "plt.ylabel('Points Scored')\n",
        "plt.show()"
      ],
      "metadata": {
        "id": "BJ8ai7ffG9ay"
      },
      "execution_count": null,
      "outputs": []
    },
    {
      "cell_type": "code",
      "source": [
        "# Line plot for NYK\n",
        "plt.figure(figsize=(10,6))\n",
        "df_nba[df_nba['Team']=='NYK'].groupby('Season Start Year')['Efficency'].mean().plot(kind='line')\n",
        "plt.title('Efficiency over time for a specific team')\n",
        "plt.xlabel('Season Start Year')\n",
        "plt.ylabel('Efficiency')\n",
        "plt.show()"
      ],
      "metadata": {
        "id": "NF50AmHGJ31B"
      },
      "execution_count": null,
      "outputs": []
    },
    {
      "cell_type": "code",
      "source": [
        "# Scatter plot\n",
        "plt.figure(figsize=(10,6))\n",
        "df_nba.plot(kind='scatter', x='Minutes Played', y='Points Scored')\n",
        "plt.title('Minutes Played vs Points Scored')\n",
        "plt.xlabel('Minutes Played')\n",
        "plt.ylabel('Points Scored')\n",
        "plt.show()\n"
      ],
      "metadata": {
        "id": "JpEStiHsKXMl"
      },
      "execution_count": null,
      "outputs": []
    },
    {
      "cell_type": "code",
      "source": [
        "# Histogram\n",
        "plt.figure(figsize=(10,6))\n",
        "df_nba['Points Scored'].hist(bins=30)\n",
        "plt.title('Distribution of Points Scored')\n",
        "plt.xlabel('Points Scored')\n",
        "plt.show()"
      ],
      "metadata": {
        "id": "w0clhZjaKcdj"
      },
      "execution_count": null,
      "outputs": []
    },
    {
      "cell_type": "code",
      "source": [
        "# Heatmap\n",
        "plt.figure(figsize=(10,6))\n",
        "sns.heatmap(df_nba[['Points Scored', 'Games Played', 'Minutes Played', 'FG Made', 'FG Attempts']].corr(), annot=True, cmap='coolwarm')\n",
        "plt.title('Correlation Heatmap')\n",
        "plt.show()"
      ],
      "metadata": {
        "id": "Y2YhstZgKgCe"
      },
      "execution_count": null,
      "outputs": []
    },
    {
      "cell_type": "code",
      "source": [
        "# Pie chart\n",
        "plt.figure(figsize=(10,6))\n",
        "df_nba.groupby('Team')['Points Scored'].sum().plot(kind='pie', autopct='%1.1f%%')\n",
        "plt.title('Proportion of total points scored by each team')\n",
        "plt.show()"
      ],
      "metadata": {
        "id": "oJ6BS8wFKswS"
      },
      "execution_count": null,
      "outputs": []
    },
    {
      "cell_type": "code",
      "source": [
        "# Box plot\n",
        "plt.figure(figsize=(10,6))\n",
        "df_nba.boxplot(column='Points Scored')\n",
        "plt.title('Box plot of Points Scored')\n",
        "plt.show()"
      ],
      "metadata": {
        "id": "QCqInfiEKxsb"
      },
      "execution_count": null,
      "outputs": []
    },
    {
      "cell_type": "markdown",
      "source": [
        "For this project, we will be focusing on Points Scored which will be predicting or analyzing the scoring performance of players so the \"Points Scored\" column could be a suitable target variable. It represents the total number of points a player has scored."
      ],
      "metadata": {
        "id": "HkojdOsuLVHC"
      }
    },
    {
      "cell_type": "code",
      "source": [
        "df_nba.info()"
      ],
      "metadata": {
        "id": "DEeiOvJQM_8w"
      },
      "execution_count": null,
      "outputs": []
    },
    {
      "cell_type": "code",
      "source": [
        "from sklearn.preprocessing import LabelEncoder, OneHotEncoder\n",
        "\n",
        "# Initiate label encoder\n",
        "le = LabelEncoder()\n",
        "\n",
        "# Label encoding for high cardinality columns\n",
        "nba_df['Player'] = le.fit_transform(nba_df['Player'])\n",
        "nba_df['Team'] = le.fit_transform(nba_df['Team'])\n",
        "\n",
        "# One-hot encoding for low cardinality columns\n",
        "onehotencoder = OneHotEncoder(drop='first')  # drop='first' to avoid dummy variable trap\n",
        "\n",
        "# Perform one-hot encoding and convert it to array\n",
        "season_type_encoded = onehotencoder.fit_transform(nba_df[['Season Type']]).toarray()\n",
        "\n",
        "# Get unique values of 'Season Type' except the first one (as drop='first')\n",
        "column_names = nba_df['Season Type'].unique()[1:]\n",
        "\n",
        "# Convert to DataFrame\n",
        "season_type_df = pd.DataFrame(season_type_encoded, columns=column_names)\n",
        "\n",
        "# Drop original 'Season Type' column and merge the one-hot encoded dataframe\n",
        "nba_df = nba_df.drop('Season Type', axis=1)\n",
        "nba_df = pd.concat([nba_df, season_type_df], axis=1)\n"
      ],
      "metadata": {
        "id": "L3WTLGN8P6eo"
      },
      "execution_count": null,
      "outputs": []
    },
    {
      "cell_type": "code",
      "source": [],
      "metadata": {
        "id": "zl8MrDN-GBd-"
      },
      "execution_count": null,
      "outputs": []
    },
    {
      "cell_type": "markdown",
      "source": [
        "Perform z-score standardization on the dataset"
      ],
      "metadata": {
        "id": "r1X9mMqPL1xo"
      }
    },
    {
      "cell_type": "code",
      "source": [
        "nba_df.info()"
      ],
      "metadata": {
        "id": "wMhww-3NOyTe"
      },
      "execution_count": null,
      "outputs": []
    },
    {
      "cell_type": "code",
      "source": [
        "nba_df = nba_df.drop('Year',axis=1)"
      ],
      "metadata": {
        "id": "Lc7xmiVPWXwI"
      },
      "execution_count": null,
      "outputs": []
    },
    {
      "cell_type": "code",
      "source": [
        "scaler = StandardScaler()\n",
        "df_standardized_nba = pd.DataFrame(scaler.fit_transform(nba_df), columns=nba_df.columns)"
      ],
      "metadata": {
        "id": "tHBaUsrsLyD-"
      },
      "execution_count": null,
      "outputs": []
    },
    {
      "cell_type": "code",
      "source": [
        "pearson_corr = df_standardized_nba.corr()\n",
        "spearman_corr = df_standardized_nba.corr(method='spearman')\n",
        "kendall_corr = df_standardized_nba.corr(method='kendall')\n"
      ],
      "metadata": {
        "id": "nO2loneFGH3F"
      },
      "execution_count": null,
      "outputs": []
    },
    {
      "cell_type": "code",
      "source": [
        "print(pearson_corr)"
      ],
      "metadata": {
        "id": "-xoW1y16NHZ-"
      },
      "execution_count": null,
      "outputs": []
    },
    {
      "cell_type": "markdown",
      "source": [
        "Performance and Ranking: There are negative correlations between the \"Rank\" column and several other columns such as \"Games Played,\" \"Minutes Played,\" \"FG Made,\" \"FG Attempts,\" \"Points Scored,\" and \"Efficiency.\" This suggests that as the ranking increases, these performance-related metrics tend to decrease. It indicates that higher-ranked players may have lower game time, fewer field goals made, and lower overall efficiency.\n",
        "\n",
        "Season and Performance: The \"Season Start Year\" column has positive correlations with several other columns such as \"Games Played,\" \"Minutes Played,\" \"FG Made,\" \"FG Attempts,\" \"Points Scored,\" and \"Efficiency.\" This suggests that as the years progress, players tend to participate in more games, accumulate more minutes, make more field goals, score more points, and potentially improve their efficiency.\n",
        "\n",
        "Playoff Performance: The \"Playoffs\" column shows positive correlations with several columns such as \"Rank,\" \"Games Played,\" \"Minutes Played,\" \"FG Made,\" \"FG Attempts,\" \"Points Scored,\" and \"Efficiency.\" This indicates that players who perform well in terms of games played, minutes played, field goals made, points scored, and efficiency have a higher chance of making it to the playoffs.\n",
        "\n",
        "Free Throw Shooting: The \"FT %\" column shows positive correlations with \"FT Made\" and \"FT Attempts.\" This suggests that as players make more free throws and attempt more free throws, their free throw shooting percentage tends to increase."
      ],
      "metadata": {
        "id": "zbVopa8LODVB"
      }
    },
    {
      "cell_type": "code",
      "source": [
        "print(spearman_corr)"
      ],
      "metadata": {
        "id": "aZ2glCYANnvS"
      },
      "execution_count": null,
      "outputs": []
    },
    {
      "cell_type": "code",
      "source": [
        "print(kendall_corr)"
      ],
      "metadata": {
        "id": "wBVTTDSyNr0w"
      },
      "execution_count": null,
      "outputs": []
    },
    {
      "cell_type": "markdown",
      "source": [
        "Based on the Kendall correlation matrix, here are a few inferences that can be drawn:\n",
        "\n",
        "Playoff Performance: There is a positive correlation between \"Playoffs\" and metrics such as \"Rank,\" \"Games Played,\" \"Minutes Played,\" \"FG Made,\" \"FG Attempts,\" \"FT Made,\" \"FT Attempts,\" and \"Points Scored.\" This suggests that players who rank higher, participate in more games, accumulate more playing minutes, make more field goals and free throws, and score more points are more likely to be part of playoff teams.\n",
        "\n",
        "Performance Metrics: Several performance-related metrics, such as \"FG Made,\" \"FG Attempts,\" \"FT Made,\" \"FT Attempts,\" \"Points Scored,\" and \"Efficency,\" show positive correlations with each other. This implies that players who have higher field goal and free throw numbers, score more points, and have higher efficiency tend to perform better overall.\n",
        "\n",
        "Rebounding: Metrics like \"Offensive Rebounds,\" \"Defensive Rebounds,\" and \"Rebounds\" show positive correlations with each other. This indicates that players who excel in offensive and defensive rebounding also tend to have higher overall rebounding numbers.\n",
        "\n",
        "Assists and Turnovers: There is a positive correlation between \"Assists\" and \"Turnovers.\" This suggests that players who have more assists also tend to have more turnovers."
      ],
      "metadata": {
        "id": "ygUt-3NBOk8W"
      }
    },
    {
      "cell_type": "code",
      "source": [
        "import seaborn as sns\n",
        "import matplotlib.pyplot as plt\n",
        "\n",
        "# Plot the Pearson correlation matrix\n",
        "plt.figure(figsize=(8, 6))\n",
        "sns.heatmap(pearson_corr, cmap='coolwarm')\n",
        "plt.title('Pearson Correlation')\n",
        "plt.show()\n",
        "\n",
        "# Plot the Spearman correlation matrix\n",
        "plt.figure(figsize=(8, 6))\n",
        "sns.heatmap(spearman_corr, cmap='coolwarm')\n",
        "plt.title('Spearman Correlation')\n",
        "plt.show()\n",
        "\n",
        "# Plot the Kendall correlation matrix\n",
        "plt.figure(figsize=(8, 6))\n",
        "sns.heatmap(kendall_corr, cmap='coolwarm')\n",
        "plt.title('Kendall Correlation')\n",
        "plt.show()\n"
      ],
      "metadata": {
        "id": "R0FZIMIuGYfp"
      },
      "execution_count": null,
      "outputs": []
    },
    {
      "cell_type": "markdown",
      "source": [
        "Let's look at Heart Dataframe"
      ],
      "metadata": {
        "id": "OLFqSW6NO5yi"
      }
    },
    {
      "cell_type": "code",
      "source": [
        "heart_df.head()"
      ],
      "metadata": {
        "id": "bMX_cvmaPBiQ"
      },
      "execution_count": null,
      "outputs": []
    },
    {
      "cell_type": "code",
      "source": [
        "heart_df.info()"
      ],
      "metadata": {
        "id": "wx1T8PjAPG2G"
      },
      "execution_count": null,
      "outputs": []
    },
    {
      "cell_type": "code",
      "source": [
        "heart_df.describe()"
      ],
      "metadata": {
        "id": "uD74pu7APKip"
      },
      "execution_count": null,
      "outputs": []
    },
    {
      "cell_type": "code",
      "source": [
        "# Identify columns with missing values\n",
        "missing_values = heart_df.isnull().sum()\n",
        "print(missing_values)"
      ],
      "metadata": {
        "id": "R1KI2AIDPOBF"
      },
      "execution_count": null,
      "outputs": []
    },
    {
      "cell_type": "code",
      "source": [
        "import matplotlib.pyplot as plt\n",
        "\n",
        "heart_df['age'].plot.hist(bins=10)\n",
        "plt.xlabel('Age')\n",
        "plt.ylabel('Frequency')\n",
        "plt.title('Distribution of Age')\n",
        "plt.show()\n"
      ],
      "metadata": {
        "id": "zEvL8eDPPyyy"
      },
      "execution_count": null,
      "outputs": []
    },
    {
      "cell_type": "code",
      "source": [
        "import seaborn as sns\n",
        "\n",
        "sns.countplot(x='sex', data=heart_df)\n",
        "plt.xlabel('Sex')\n",
        "plt.ylabel('Count')\n",
        "plt.title('Distribution of Sex')\n",
        "plt.show()\n"
      ],
      "metadata": {
        "id": "d6trbGf8P1HT"
      },
      "execution_count": null,
      "outputs": []
    },
    {
      "cell_type": "code",
      "source": [
        "plt.scatter(heart_df['age'], heart_df['thalach'])\n",
        "plt.xlabel('Age')\n",
        "plt.ylabel('Maximum Heart Rate')\n",
        "plt.title('Age vs Maximum Heart Rate')\n",
        "plt.show()\n"
      ],
      "metadata": {
        "id": "mPFyWjX3P4fK"
      },
      "execution_count": null,
      "outputs": []
    },
    {
      "cell_type": "code",
      "source": [
        "sns.boxplot(x='target', y='thal', data=heart_df)\n",
        "plt.xlabel('Target')\n",
        "plt.ylabel('Thal')\n",
        "plt.title('Distribution of Thal by Target')\n",
        "plt.show()\n",
        "\n"
      ],
      "metadata": {
        "id": "ojxLnDXQP7R-"
      },
      "execution_count": null,
      "outputs": []
    },
    {
      "cell_type": "code",
      "source": [
        "correlation_matrix_pearson = heart_df.corr(method='pearson')\n",
        "plt.figure(figsize=(10, 8))\n",
        "sns.heatmap(correlation_matrix_pearson, annot=True, cmap='coolwarm')\n",
        "plt.title('Pearson Correlation Matrix Heatmap')\n",
        "plt.show()\n"
      ],
      "metadata": {
        "id": "NjgkJt-JQRN_"
      },
      "execution_count": null,
      "outputs": []
    },
    {
      "cell_type": "code",
      "source": [
        "#Spearman corelation\n",
        "correlation_matrix_spearman = heart_df.corr(method='spearman')\n",
        "plt.figure(figsize=(10, 8))\n",
        "sns.heatmap(correlation_matrix_spearman, annot=True, cmap='coolwarm')\n",
        "plt.title('Spearman Correlation Matrix Heatmap')\n",
        "plt.show()\n"
      ],
      "metadata": {
        "id": "0Uj0faTcQYF3"
      },
      "execution_count": null,
      "outputs": []
    },
    {
      "cell_type": "code",
      "source": [
        "correlation_matrix_kendall = heart_df.corr(method='kendall')\n",
        "plt.figure(figsize=(10, 8))\n",
        "sns.heatmap(correlation_matrix_kendall, annot=True, cmap='coolwarm')\n",
        "plt.title('Kendall Correlation Matrix Heatmap')\n",
        "plt.show()\n"
      ],
      "metadata": {
        "id": "nrwO_vWnQggL"
      },
      "execution_count": null,
      "outputs": []
    },
    {
      "cell_type": "code",
      "source": [
        "print(correlation_matrix_pearson)"
      ],
      "metadata": {
        "id": "i3vjC_stQmZb"
      },
      "execution_count": null,
      "outputs": []
    },
    {
      "cell_type": "markdown",
      "source": [
        "Based on the Pearson correlation coefficients, we can make the following inferences:\n",
        "\n",
        "Age (in years) has a negative correlation (-0.229) with the target\n",
        "variable, indicating that older individuals may be more likely to have heart disease.\n",
        "Sex has a negative correlation (-0.280) with the target variable, suggesting that females may have a lower likelihood of heart disease compared to males.\n",
        "Chest pain type (cp) has a positive correlation (0.435) with the target variable, indicating that certain types of chest pain may be associated with a higher probability of heart disease.\n",
        "Maximum heart rate achieved (thalach) has a positive correlation (0.423) with the target variable, suggesting that individuals with higher maximum heart rates may be more likely to have heart disease.\n",
        "Exercise-induced angina (exang) has a negative correlation (-0.438) with the target variable, indicating that individuals who experience angina during exercise may have a lower likelihood of heart disease.\n",
        "ST depression induced by exercise relative to rest (oldpeak) has a negative correlation (-0.438) with the target variable, suggesting that a higher degree of ST depression may be associated with a higher probability of heart disease.\n",
        "The number of major vessels colored by fluoroscopy (ca) has a negative correlation (-0.382) with the target variable, indicating that a higher number of colored vessels may be associated with a lower likelihood of heart disease.\n",
        "The thalassemia category (thal) has a negative correlation (-0.338) with the target variable, suggesting that certain categories of thalassemia may be associated with a lower probability of heart disease."
      ],
      "metadata": {
        "id": "wp63HPadQ9kQ"
      }
    },
    {
      "cell_type": "markdown",
      "source": [
        "Let's look at the mcdonald's Dataframe"
      ],
      "metadata": {
        "id": "WOdWSoWGXT1K"
      }
    },
    {
      "cell_type": "code",
      "source": [
        "mcdonald_df.head()"
      ],
      "metadata": {
        "id": "JI41URvSXXoZ"
      },
      "execution_count": null,
      "outputs": []
    },
    {
      "cell_type": "code",
      "source": [
        "mcdonald_df.info()"
      ],
      "metadata": {
        "id": "ynaVtLQlXcwA"
      },
      "execution_count": null,
      "outputs": []
    },
    {
      "cell_type": "code",
      "source": [
        "# Convert servesize and calories to numeric\n",
        "mcdonald_df['servesize'] = pd.to_numeric(mcdonald_df['servesize'], errors='coerce')\n",
        "mcdonald_df['calories'] = pd.to_numeric(mcdonald_df['calories'], errors='coerce')\n",
        "\n",
        "# Convert menu to binary\n",
        "mcdonald_df['menu'] = mcdonald_df['menu'].map({'No': 0, 'Yes': 1})\n"
      ],
      "metadata": {
        "id": "c2OFA42qXmZd"
      },
      "execution_count": null,
      "outputs": []
    },
    {
      "cell_type": "code",
      "source": [
        "mcdonald_df.info()"
      ],
      "metadata": {
        "id": "EsoOKpiJYBAT"
      },
      "execution_count": null,
      "outputs": []
    },
    {
      "cell_type": "code",
      "source": [
        "# Identify columns with missing values\n",
        "missing_values = mcdonald_df.isnull().sum()\n",
        "print(missing_values)"
      ],
      "metadata": {
        "id": "JkrxvanCYLJu"
      },
      "execution_count": null,
      "outputs": []
    },
    {
      "cell_type": "code",
      "source": [
        "import numpy as np\n",
        "\n",
        "# Impute missing values in servesize with mean\n",
        "mean_servesize = np.mean(mcdonald_df['servesize'])\n",
        "mcdonald_df['servesize'].fillna(mean_servesize, inplace=True)\n",
        "\n",
        "# Drop the menu column\n",
        "mcdonald_df.drop('menu', axis=1, inplace=True)\n"
      ],
      "metadata": {
        "id": "1awR-HVyYVq8"
      },
      "execution_count": null,
      "outputs": []
    },
    {
      "cell_type": "code",
      "source": [
        "mcdonald_df.info()"
      ],
      "metadata": {
        "id": "MUMbY9EoYlNO"
      },
      "execution_count": null,
      "outputs": []
    },
    {
      "cell_type": "markdown",
      "source": [
        "Performing some EDA on this."
      ],
      "metadata": {
        "id": "tPb_RCwQZ1xs"
      }
    },
    {
      "cell_type": "code",
      "source": [
        "import matplotlib.pyplot as plt\n",
        "import seaborn as sns\n",
        "\n",
        "# Bar Chart\n",
        "# Filter the DataFrame to include only the top 10 items by count\n",
        "top_10_items = mcdonald_df['item'].value_counts().nlargest(10).index\n",
        "\n",
        "# Create the bar chart\n",
        "plt.figure(figsize=(10, 6))\n",
        "sns.countplot(data=mcdonald_df[mcdonald_df['item'].isin(top_10_items)], x='item')\n",
        "plt.xticks(rotation=90)\n",
        "plt.xlabel('Item')\n",
        "plt.ylabel('Count')\n",
        "plt.title('Top 10 Most Common Items')\n",
        "plt.show()\n",
        "\n",
        "# Histogram\n",
        "plt.figure(figsize=(10, 6))\n",
        "sns.histplot(data=mcdonald_df, x='calories', bins=10)\n",
        "plt.xlabel('Calories')\n",
        "plt.ylabel('Frequency')\n",
        "plt.title('Distribution of Calories')\n",
        "plt.show()\n",
        "\n",
        "# Scatter Plot\n",
        "plt.figure(figsize=(10, 6))\n",
        "sns.scatterplot(data=mcdonald_df, x='servesize', y='calories')\n",
        "plt.xlabel('Serving Size')\n",
        "plt.ylabel('Calories')\n",
        "plt.title('Serving Size vs. Calories')\n",
        "plt.show()\n",
        "\n",
        "# Box Plot\n",
        "plt.figure(figsize=(10, 6))\n",
        "sns.boxplot(data=mcdonald_df[['totalfat', 'sugar', 'sodium']])\n",
        "plt.xlabel('Metric')\n",
        "plt.ylabel('Value')\n",
        "plt.title('Distribution of Total Fat, Sugar, and Sodium')\n",
        "plt.show()\n",
        "\n",
        "# Heatmap\n",
        "plt.figure(figsize=(10, 8))\n",
        "correlation_matrix = mcdonald_df.corr()\n",
        "sns.heatmap(correlation_matrix, annot=True, cmap='coolwarm')\n",
        "plt.title('Correlation Matrix')\n",
        "plt.show()\n",
        "\n"
      ],
      "metadata": {
        "id": "mXEv58ePZ5f4"
      },
      "execution_count": null,
      "outputs": []
    },
    {
      "cell_type": "code",
      "source": [
        "from sklearn.preprocessing import StandardScaler\n",
        "\n",
        "# Create a StandardScaler object\n",
        "scaler = StandardScaler()\n",
        "\n",
        "# Select the columns to be scaled (excluding non-numeric columns if any)\n",
        "columns_to_scale = ['servesize', 'calories', 'protien', 'totalfat', 'satfat', 'transfat', 'cholestrol', 'carbs', 'sugar', 'addedsugar', 'sodium']\n",
        "\n",
        "# Fit the scaler on the selected columns\n",
        "scaler.fit(mcdonald_df[columns_to_scale])\n",
        "\n",
        "# Transform the selected columns using the fitted scaler\n",
        "mcdonald_df[columns_to_scale] = scaler.transform(mcdonald_df[columns_to_scale])\n"
      ],
      "metadata": {
        "id": "rfMA33ayZn6w"
      },
      "execution_count": null,
      "outputs": []
    },
    {
      "cell_type": "code",
      "source": [
        "mcdonald_df.info()"
      ],
      "metadata": {
        "id": "_QS6Z9U9ZdPI"
      },
      "execution_count": null,
      "outputs": []
    },
    {
      "cell_type": "code",
      "source": [
        "mcdonald_df.head()"
      ],
      "metadata": {
        "id": "irREY-RmZshU"
      },
      "execution_count": null,
      "outputs": []
    },
    {
      "cell_type": "code",
      "source": [
        "import seaborn as sns\n",
        "import matplotlib.pyplot as plt\n",
        "\n",
        "# Calculate Pearson correlation matrix\n",
        "pearson_corr = mcdonald_df.corr(method='pearson')\n",
        "\n",
        "# Calculate Spearman correlation matrix\n",
        "spearman_corr = mcdonald_df.corr(method='spearman')\n",
        "\n",
        "# Calculate Kendall correlation matrix\n",
        "kendall_corr = mcdonald_df.corr(method='kendall')\n",
        "\n",
        "# Plot Pearson correlation heatmap\n",
        "plt.figure(figsize=(10, 8))\n",
        "sns.heatmap(pearson_corr, annot=True, cmap='coolwarm', fmt='.2f', linewidths=0.5)\n",
        "plt.title('Pearson Correlation Heatmap')\n",
        "plt.show()\n",
        "\n",
        "# Plot Spearman correlation heatmap\n",
        "plt.figure(figsize=(10, 8))\n",
        "sns.heatmap(spearman_corr, annot=True, cmap='coolwarm', fmt='.2f', linewidths=0.5)\n",
        "plt.title('Spearman Correlation Heatmap')\n",
        "plt.show()\n",
        "\n",
        "# Plot Kendall correlation heatmap\n",
        "plt.figure(figsize=(10, 8))\n",
        "sns.heatmap(kendall_corr, annot=True, cmap='coolwarm', fmt='.2f', linewidths=0.5)\n",
        "plt.title('Kendall Correlation Heatmap')\n",
        "plt.show()\n"
      ],
      "metadata": {
        "id": "XyaG4PzgZxpI"
      },
      "execution_count": null,
      "outputs": []
    },
    {
      "cell_type": "code",
      "source": [
        "print(pearson_corr)"
      ],
      "metadata": {
        "id": "bMRxQjhja43Q"
      },
      "execution_count": null,
      "outputs": []
    },
    {
      "cell_type": "markdown",
      "source": [
        "Based on the correlation matrix, we can make the following inferences:\n",
        "\n",
        "Calories and macronutrients: There is a strong positive correlation between calories and protein (0.81), total fat (0.87), and saturated fat (0.73). This suggests that items with higher calorie content tend to have higher levels of protein, total fat, and saturated fat.\n",
        "\n",
        "Cholesterol: Cholesterol shows a moderate positive correlation with protein (0.59), total fat (0.42), and sodium (0.48). This indicates that items with higher cholesterol content also tend to have higher levels of protein, total fat, and sodium.\n",
        "\n",
        "Carbohydrates and sugar: Carbohydrates exhibit a positive correlation with calories (0.78) and a moderate positive correlation with sugar (0.51) and added sugar (0.46). This implies that items with higher carbohydrate content also tend to have higher levels of calories, sugar, and added sugar.\n",
        "\n",
        "Sodium: Sodium has a strong positive correlation with protein (0.91), total fat (0.86), and saturated fat (0.61). This suggests that items with higher sodium content also tend to have higher levels of protein, total fat, and saturated fat.\n",
        "\n",
        "These inferences provide insights into the relationships between different nutritional components in the McDonald's dataset. It is important to note that correlation does not imply causation, and further analysis may be required to establish any causal relationships."
      ],
      "metadata": {
        "id": "XyLki7HTbLaN"
      }
    },
    {
      "cell_type": "code",
      "source": [
        "supercharge_df.head()"
      ],
      "metadata": {
        "id": "RvV5NGfTbNCZ"
      },
      "execution_count": null,
      "outputs": []
    },
    {
      "cell_type": "code",
      "source": [
        "supercharge_df.info()"
      ],
      "metadata": {
        "id": "ImoEEIfrbel1"
      },
      "execution_count": null,
      "outputs": []
    },
    {
      "cell_type": "code",
      "source": [
        "!pip install geopandas"
      ],
      "metadata": {
        "id": "rwEHg_A3cuJl"
      },
      "execution_count": null,
      "outputs": []
    },
    {
      "cell_type": "code",
      "source": [
        "import pandas as pd\n",
        "import geopandas as gpd\n",
        "import matplotlib.pyplot as plt\n",
        "\n",
        "# First, we need to split the GPS coordinates into separate latitude and longitude fields\n",
        "supercharge_df[['Latitude', 'Longitude']] = supercharge_df['GPS'].str.split(',', expand=True)\n",
        "\n",
        "# Convert them to float\n",
        "supercharge_df['Latitude'] = pd.to_numeric(supercharge_df['Latitude'])\n",
        "supercharge_df['Longitude'] = pd.to_numeric(supercharge_df['Longitude'])\n",
        "\n",
        "# Create a GeoDataFrame from your DataFrame. The 'points_from_xy' function creates Point objects from the latitude and longitude columns\n",
        "gdf = gpd.GeoDataFrame(supercharge_df, geometry=gpd.points_from_xy(supercharge_df['Longitude'], supercharge_df['Latitude']))\n",
        "\n",
        "# Load a basemap\n",
        "world = gpd.read_file(gpd.datasets.get_path('naturalearth_lowres'))\n",
        "\n",
        "# Plot the data\n",
        "fig, ax = plt.subplots(figsize=(10,10))\n",
        "world.plot(ax=ax, color='white', edgecolor='black')\n",
        "gdf.plot(ax=ax, color='red')\n",
        "plt.show()\n",
        "\n"
      ],
      "metadata": {
        "id": "6mAUoAbeb8ez"
      },
      "execution_count": null,
      "outputs": []
    },
    {
      "cell_type": "code",
      "source": [
        "supercharge_df.info()"
      ],
      "metadata": {
        "id": "rwe8UITSdQSC"
      },
      "execution_count": null,
      "outputs": []
    },
    {
      "cell_type": "code",
      "source": [
        "#Bar plot of the number of Superchargers in each country:\n",
        "plt.figure(figsize=(12, 6))\n",
        "sns.countplot(data=supercharge_df, x='Country')\n",
        "plt.title('Number of Superchargers by Country')\n",
        "plt.xticks(rotation=90) # Rotate labels for better readability if needed\n",
        "plt.show()"
      ],
      "metadata": {
        "id": "qAmYAPtHeMTa"
      },
      "execution_count": null,
      "outputs": []
    },
    {
      "cell_type": "code",
      "source": [
        "#Distribution of Supercharger stalls:\n",
        "plt.figure(figsize=(12, 6))\n",
        "sns.histplot(data=supercharge_df, x='Stalls', bins=30)\n",
        "plt.title('Distribution of Supercharger Stalls')\n",
        "plt.show()\n"
      ],
      "metadata": {
        "id": "MEVl_BLfeQzt"
      },
      "execution_count": null,
      "outputs": []
    },
    {
      "cell_type": "code",
      "source": [
        "#Average power output by country (kW):\n",
        "avg_power = supercharge_df.groupby('Country')['kW'].mean().sort_values(ascending=False)\n",
        "avg_power.plot(kind='bar', figsize=(12, 6))\n",
        "plt.title('Average Power Output by Country')\n",
        "plt.ylabel('Average Power (kW)')\n",
        "plt.show()\n"
      ],
      "metadata": {
        "id": "bS-O5ae4eWv5"
      },
      "execution_count": null,
      "outputs": []
    },
    {
      "cell_type": "code",
      "source": [
        "#Scatter plot of the Supercharger's latitude and longitude (this gives an idea of geographical distribution):\n",
        "plt.figure(figsize=(12, 6))\n",
        "sns.scatterplot(data=supercharge_df, x='Longitude', y='Latitude')\n",
        "plt.title('Geographical Distribution of Superchargers')\n",
        "plt.show()\n"
      ],
      "metadata": {
        "id": "MziNrZTQecng"
      },
      "execution_count": null,
      "outputs": []
    },
    {
      "cell_type": "code",
      "source": [
        "#Number of Superchargers opened each year:\n",
        "plt.figure(figsize=(12, 6))\n",
        "sns.countplot(data=supercharge_df, x='Open Date')\n",
        "plt.title('Number of Superchargers Opened Each Year')\n",
        "plt.xticks(rotation=90) # Rotate labels for better readability if needed\n",
        "plt.show()\n"
      ],
      "metadata": {
        "id": "7WXakYzReh_s"
      },
      "execution_count": null,
      "outputs": []
    },
    {
      "cell_type": "code",
      "source": [
        "\n",
        "from sklearn.preprocessing import LabelEncoder\n",
        "\n",
        "# Let's first deal with the NaNs for the 'State' and 'Zip' columns\n",
        "supercharge_df['State'] = supercharge_df['State'].fillna('Unknown')\n",
        "supercharge_df['Zip'] = supercharge_df['Zip'].fillna('Unknown')\n",
        "\n",
        "# Convert 'Latitude' and 'Longitude' to integers\n",
        "supercharge_df['Latitude'] = supercharge_df['Latitude'].astype(int)\n",
        "supercharge_df['Longitude'] = supercharge_df['Longitude'].astype(int)\n",
        "\n",
        "# Let's deal with the date now, we'll just take the year as an integer\n",
        "supercharge_df['Open Date'] = pd.to_datetime(supercharge_df['Open Date']).dt.year\n",
        "\n",
        "# Fill NaN years with 0\n",
        "supercharge_df['Open Date'] = supercharge_df['Open Date'].fillna(0).astype(int)\n",
        "\n",
        "# For the kW column, let's fill NaNs with the average and convert to int\n",
        "supercharge_df['kW'] = supercharge_df['kW'].fillna(supercharge_df['kW'].mean()).astype(int)\n",
        "\n",
        "# Drop columns which will not be used\n",
        "supercharge_df = supercharge_df.drop(['Unnamed: 11', 'GPS'], axis=1)\n",
        "\n",
        "# Initialize the LabelEncoder\n",
        "le = LabelEncoder()\n",
        "\n",
        "# Apply LabelEncoder to categorical columns\n",
        "for column in supercharge_df.select_dtypes(include=['object']).columns:\n",
        "    supercharge_df[column] = le.fit_transform(supercharge_df[column])\n"
      ],
      "metadata": {
        "id": "g9zP_iXDdWQn"
      },
      "execution_count": null,
      "outputs": []
    },
    {
      "cell_type": "code",
      "source": [
        "supercharge_df.head()"
      ],
      "metadata": {
        "id": "7svBmjfygvF1"
      },
      "execution_count": null,
      "outputs": []
    },
    {
      "cell_type": "code",
      "source": [
        "\n",
        "# Pearson Correlation\n",
        "pearson_corr = supercharge_df.corr(method='pearson')\n",
        "plt.figure(figsize=(12, 12))\n",
        "sns.heatmap(pearson_corr, annot=True, cmap='coolwarm')\n",
        "plt.title('Pearson Correlation')\n",
        "plt.show()\n",
        "\n",
        "# Spearman Correlation\n",
        "spearman_corr = supercharge_df.corr(method='spearman')\n",
        "plt.figure(figsize=(12, 12))\n",
        "sns.heatmap(spearman_corr, annot=True, cmap='coolwarm')\n",
        "plt.title('Spearman Correlation')\n",
        "plt.show()\n",
        "\n",
        "# Kendall Correlation\n",
        "kendall_corr = supercharge_df.corr(method='kendall')\n",
        "plt.figure(figsize=(12, 12))\n",
        "sns.heatmap(kendall_corr, annot=True, cmap='coolwarm')\n",
        "plt.title('Kendall Correlation')\n",
        "plt.show()\n"
      ],
      "metadata": {
        "id": "ani9JNZIgz5O"
      },
      "execution_count": null,
      "outputs": []
    },
    {
      "cell_type": "code",
      "source": [
        "print(pearson_corr)"
      ],
      "metadata": {
        "id": "bEiIEoEXhJXE"
      },
      "execution_count": null,
      "outputs": []
    },
    {
      "cell_type": "markdown",
      "source": [
        "Based on the correlation matrix provided, here are a few observations:\n",
        "\n",
        "'Supercharger' and 'City' have a high positive correlation (0.906). This could suggest that specific Supercharger models are concentrated in certain cities.\n",
        "\n",
        "'Street Address' and 'Longitude' have a high positive correlation (0.540). This may mean that different streets are related with distinct longitudes.\n",
        "\n",
        "'Country' and 'Longitude' have a strong negative correlation (-0.754). This could be due to countries being spread across different longitudes.\n",
        "\n",
        "'Country' and 'Stalls' have a significant positive correlation (0.261). This might indicate that the number of stalls might be higher in some countries compared to others.\n",
        "\n",
        "'Zip' and 'Stalls' have a moderate negative correlation (-0.171), possibly implying that certain zip code areas have fewer Supercharger stalls.\n",
        "\n",
        "'Country' and 'Street Address' show a strong negative correlation (-0.468), suggesting that specific street addresses are exclusive to certain countries."
      ],
      "metadata": {
        "id": "azIHbHikhfn2"
      }
    },
    {
      "cell_type": "code",
      "source": [
        "from sqlalchemy import false\n",
        "from sqlalchemy.sql.expression import true\n",
        "from sklearn.preprocessing import LabelEncoder\n",
        "\n",
        "# Ehsan's work\n",
        "#  Multiple Correlation Coefficient\n",
        "import numpy as np\n",
        "import pandas as pd\n",
        "import matplotlib.pyplot as plt\n",
        "\n",
        "TargettedColumn = input(\"Input Targetted Parameter :\")\n",
        "data = pd.read_csv('/content/sample_data/supercharge.csv', encoding='latin1')\n",
        "# pd.read_excel('/content/sample_data/NBA_Stats_71_Years.xlsx')#\n",
        "# Perform label encoding for each string variable\n",
        "label_encoder = LabelEncoder()\n",
        "for var in data.columns:\n",
        "    data[var] = label_encoder.fit_transform(data[var])\n",
        "\n",
        "# Calculate the correlation coefficients with other variables\n",
        "correlation_coefficients = data.corr()[TargettedColumn]\n",
        "\n",
        "# Find the minimum absolute correlation coefficient excluding the variable itself\n",
        "min_threshold = correlation_coefficients.drop(TargettedColumn).abs().min()\n",
        "min_threshold_negative = -min_threshold\n",
        "# Print the minimum threshold for non-correlation\n",
        "print(\"Minimum threshold for inverse non-correlation: \", min_threshold_negative)\n",
        "print(\"Minimum threshold for non-correlation: \", min_threshold)\n",
        "\n",
        "def is_between(a, b, x):\n",
        "    return min(a, b) < x < max(a, b)\n",
        "\n",
        "def dependentFeatures (l):\n",
        "    lists = [[]]\n",
        "    for i in range(len(l) + 1):\n",
        "        for j in range(i):\n",
        "            lists.append(l[j: i])\n",
        "    return lists\n",
        "\n",
        "\n",
        "print(\"1 on 1 Correlation\")\n",
        "for col in data.columns:\n",
        "  if col != TargettedColumn:\n",
        "    print(col+\" on \"+TargettedColumn)\n",
        "    # Correlation between two columns of DataFrame.\n",
        "    corr=data[col].corr(data[TargettedColumn])\n",
        "    print(corr)\n",
        "    if is_between(min_threshold_negative, min_threshold, corr):\n",
        "      print(\"This parameter is not correleated\")\n",
        "\n",
        "\n",
        "\n",
        "parameters = data.columns\n",
        "\n",
        "index = np.argwhere(parameters==TargettedColumn)\n",
        "parameter = np.delete(parameters, index)\n",
        "features = dependentFeatures(parameter)\n",
        "# print(features)\n",
        "\n",
        "print(\"Dependencies with respect to targetted parameter\")\n",
        "\n",
        "for dependent in features:\n",
        "  if len(dependent) != 0 :\n",
        "    print(dependent+\" on \"+TargettedColumn)\n",
        "    corr = data[[dependent.all()]].corrwith(data[TargettedColumn])\n",
        "    print(corr[0])\n",
        "    if is_between(min_threshold_negative, min_threshold, corr[0]):\n",
        "      print(\"This feature is not correleated\")\n",
        "    # Add inversely and directly proportionality in percentage\n",
        "\n",
        "\n",
        "\n",
        "\n",
        "\n",
        "corr = data.corr()\n",
        "fig = plt.figure()\n",
        "ax = fig.add_subplot(111)\n",
        "cax = ax.matshow(corr,cmap='coolwarm', vmin=-1, vmax=1)\n",
        "fig.colorbar(cax)\n",
        "ticks = np.arange(0,len(data.columns),1)\n",
        "ax.set_xticks(ticks)\n",
        "plt.xticks(rotation=90)\n",
        "ax.set_yticks(ticks)\n",
        "ax.set_xticklabels(data.columns)\n",
        "ax.set_yticklabels(data.columns)\n",
        "plt.show()"
      ],
      "metadata": {
        "id": "R3g7I0DMjYbo",
        "colab": {
          "base_uri": "https://localhost:8080/",
          "height": 1000
        },
        "outputId": "b962e0a0-82e9-41aa-bdbe-7b8eaa68af0d"
      },
      "execution_count": 4,
      "outputs": [
        {
          "output_type": "stream",
          "name": "stdout",
          "text": [
            "Input Targetted Parameter :Stalls\n",
            "Minimum threshold for inverse non-correlation:  -0.02507535350583869\n",
            "Minimum threshold for non-correlation:  0.02507535350583869\n",
            "1 on 1 Correlation\n",
            "Supercharger on Stalls\n",
            "-0.05008950903908482\n",
            "Street Address on Stalls\n",
            "-0.11928680609237532\n",
            "City on Stalls\n",
            "-0.045022158176758593\n",
            "State on Stalls\n",
            "-0.16476908057159814\n",
            "Zip on Stalls\n",
            "-0.19861355962833707\n",
            "Country on Stalls\n",
            "0.28253096676162504\n",
            "kW on Stalls\n",
            "0.09130669477649768\n",
            "GPS on Stalls\n",
            "0.2622822566149954\n",
            "Elev(m) on Stalls\n",
            "-0.025075353505838924\n",
            "Open Date on Stalls\n",
            "0.028971573620613995\n",
            "Unnamed: 11 on Stalls\n",
            "nan\n",
            "Dependencies with respect to targetted parameter\n",
            "Index(['Supercharger on Stalls'], dtype='object')\n",
            "-0.05008950903908482\n",
            "Index(['Supercharger on Stalls', 'Street Address on Stalls'], dtype='object')\n",
            "-0.11928680609237532\n",
            "Index(['Street Address on Stalls'], dtype='object')\n",
            "-0.11928680609237532\n",
            "Index(['Supercharger on Stalls', 'Street Address on Stalls', 'City on Stalls'], dtype='object')\n",
            "-0.045022158176758593\n",
            "Index(['Street Address on Stalls', 'City on Stalls'], dtype='object')\n",
            "-0.045022158176758593\n",
            "Index(['City on Stalls'], dtype='object')\n",
            "-0.045022158176758593\n",
            "Index(['Supercharger on Stalls', 'Street Address on Stalls', 'City on Stalls',\n",
            "       'State on Stalls'],\n",
            "      dtype='object')\n",
            "-0.16476908057159814\n",
            "Index(['Street Address on Stalls', 'City on Stalls', 'State on Stalls'], dtype='object')\n",
            "-0.16476908057159814\n",
            "Index(['City on Stalls', 'State on Stalls'], dtype='object')\n",
            "-0.16476908057159814\n",
            "Index(['State on Stalls'], dtype='object')\n",
            "-0.16476908057159814\n",
            "Index(['Supercharger on Stalls', 'Street Address on Stalls', 'City on Stalls',\n",
            "       'State on Stalls', 'Zip on Stalls'],\n",
            "      dtype='object')\n",
            "-0.19861355962833707\n",
            "Index(['Street Address on Stalls', 'City on Stalls', 'State on Stalls',\n",
            "       'Zip on Stalls'],\n",
            "      dtype='object')\n",
            "-0.19861355962833707\n",
            "Index(['City on Stalls', 'State on Stalls', 'Zip on Stalls'], dtype='object')\n",
            "-0.19861355962833707\n",
            "Index(['State on Stalls', 'Zip on Stalls'], dtype='object')\n",
            "-0.19861355962833707\n",
            "Index(['Zip on Stalls'], dtype='object')\n",
            "-0.19861355962833707\n",
            "Index(['Supercharger on Stalls', 'Street Address on Stalls', 'City on Stalls',\n",
            "       'State on Stalls', 'Zip on Stalls', 'Country on Stalls'],\n",
            "      dtype='object')\n",
            "0.28253096676162504\n",
            "Index(['Street Address on Stalls', 'City on Stalls', 'State on Stalls',\n",
            "       'Zip on Stalls', 'Country on Stalls'],\n",
            "      dtype='object')\n",
            "0.28253096676162504\n",
            "Index(['City on Stalls', 'State on Stalls', 'Zip on Stalls',\n",
            "       'Country on Stalls'],\n",
            "      dtype='object')\n",
            "0.28253096676162504\n",
            "Index(['State on Stalls', 'Zip on Stalls', 'Country on Stalls'], dtype='object')\n",
            "0.28253096676162504\n",
            "Index(['Zip on Stalls', 'Country on Stalls'], dtype='object')\n",
            "0.28253096676162504\n",
            "Index(['Country on Stalls'], dtype='object')\n",
            "0.28253096676162504\n",
            "Index(['Supercharger on Stalls', 'Street Address on Stalls', 'City on Stalls',\n",
            "       'State on Stalls', 'Zip on Stalls', 'Country on Stalls',\n",
            "       'kW on Stalls'],\n",
            "      dtype='object')\n",
            "0.09130669477649768\n",
            "Index(['Street Address on Stalls', 'City on Stalls', 'State on Stalls',\n",
            "       'Zip on Stalls', 'Country on Stalls', 'kW on Stalls'],\n",
            "      dtype='object')\n",
            "0.09130669477649768\n",
            "Index(['City on Stalls', 'State on Stalls', 'Zip on Stalls',\n",
            "       'Country on Stalls', 'kW on Stalls'],\n",
            "      dtype='object')\n",
            "0.09130669477649768\n",
            "Index(['State on Stalls', 'Zip on Stalls', 'Country on Stalls',\n",
            "       'kW on Stalls'],\n",
            "      dtype='object')\n",
            "0.09130669477649768\n",
            "Index(['Zip on Stalls', 'Country on Stalls', 'kW on Stalls'], dtype='object')\n",
            "0.09130669477649768\n",
            "Index(['Country on Stalls', 'kW on Stalls'], dtype='object')\n",
            "0.09130669477649768\n",
            "Index(['kW on Stalls'], dtype='object')\n",
            "0.09130669477649768\n",
            "Index(['Supercharger on Stalls', 'Street Address on Stalls', 'City on Stalls',\n",
            "       'State on Stalls', 'Zip on Stalls', 'Country on Stalls', 'kW on Stalls',\n",
            "       'GPS on Stalls'],\n",
            "      dtype='object')\n",
            "0.2622822566149954\n",
            "Index(['Street Address on Stalls', 'City on Stalls', 'State on Stalls',\n",
            "       'Zip on Stalls', 'Country on Stalls', 'kW on Stalls', 'GPS on Stalls'],\n",
            "      dtype='object')\n",
            "0.2622822566149954\n",
            "Index(['City on Stalls', 'State on Stalls', 'Zip on Stalls',\n",
            "       'Country on Stalls', 'kW on Stalls', 'GPS on Stalls'],\n",
            "      dtype='object')\n",
            "0.2622822566149954\n",
            "Index(['State on Stalls', 'Zip on Stalls', 'Country on Stalls', 'kW on Stalls',\n",
            "       'GPS on Stalls'],\n",
            "      dtype='object')\n",
            "0.2622822566149954\n",
            "Index(['Zip on Stalls', 'Country on Stalls', 'kW on Stalls', 'GPS on Stalls'], dtype='object')\n",
            "0.2622822566149954\n",
            "Index(['Country on Stalls', 'kW on Stalls', 'GPS on Stalls'], dtype='object')\n",
            "0.2622822566149954\n",
            "Index(['kW on Stalls', 'GPS on Stalls'], dtype='object')\n",
            "0.2622822566149954\n",
            "Index(['GPS on Stalls'], dtype='object')\n",
            "0.2622822566149954\n",
            "Index(['Supercharger on Stalls', 'Street Address on Stalls', 'City on Stalls',\n",
            "       'State on Stalls', 'Zip on Stalls', 'Country on Stalls', 'kW on Stalls',\n",
            "       'GPS on Stalls', 'Elev(m) on Stalls'],\n",
            "      dtype='object')\n",
            "-0.025075353505838924\n",
            "Index(['Street Address on Stalls', 'City on Stalls', 'State on Stalls',\n",
            "       'Zip on Stalls', 'Country on Stalls', 'kW on Stalls', 'GPS on Stalls',\n",
            "       'Elev(m) on Stalls'],\n",
            "      dtype='object')\n",
            "-0.025075353505838924\n",
            "Index(['City on Stalls', 'State on Stalls', 'Zip on Stalls',\n",
            "       'Country on Stalls', 'kW on Stalls', 'GPS on Stalls',\n",
            "       'Elev(m) on Stalls'],\n",
            "      dtype='object')\n",
            "-0.025075353505838924\n",
            "Index(['State on Stalls', 'Zip on Stalls', 'Country on Stalls', 'kW on Stalls',\n",
            "       'GPS on Stalls', 'Elev(m) on Stalls'],\n",
            "      dtype='object')\n",
            "-0.025075353505838924\n",
            "Index(['Zip on Stalls', 'Country on Stalls', 'kW on Stalls', 'GPS on Stalls',\n",
            "       'Elev(m) on Stalls'],\n",
            "      dtype='object')\n",
            "-0.025075353505838924\n",
            "Index(['Country on Stalls', 'kW on Stalls', 'GPS on Stalls',\n",
            "       'Elev(m) on Stalls'],\n",
            "      dtype='object')\n",
            "-0.025075353505838924\n",
            "Index(['kW on Stalls', 'GPS on Stalls', 'Elev(m) on Stalls'], dtype='object')\n",
            "-0.025075353505838924\n",
            "Index(['GPS on Stalls', 'Elev(m) on Stalls'], dtype='object')\n",
            "-0.025075353505838924\n",
            "Index(['Elev(m) on Stalls'], dtype='object')\n",
            "-0.025075353505838924\n",
            "Index(['Supercharger on Stalls', 'Street Address on Stalls', 'City on Stalls',\n",
            "       'State on Stalls', 'Zip on Stalls', 'Country on Stalls', 'kW on Stalls',\n",
            "       'GPS on Stalls', 'Elev(m) on Stalls', 'Open Date on Stalls'],\n",
            "      dtype='object')\n",
            "0.028971573620613998\n",
            "Index(['Street Address on Stalls', 'City on Stalls', 'State on Stalls',\n",
            "       'Zip on Stalls', 'Country on Stalls', 'kW on Stalls', 'GPS on Stalls',\n",
            "       'Elev(m) on Stalls', 'Open Date on Stalls'],\n",
            "      dtype='object')\n",
            "0.028971573620613998\n",
            "Index(['City on Stalls', 'State on Stalls', 'Zip on Stalls',\n",
            "       'Country on Stalls', 'kW on Stalls', 'GPS on Stalls',\n",
            "       'Elev(m) on Stalls', 'Open Date on Stalls'],\n",
            "      dtype='object')\n",
            "0.028971573620613998\n",
            "Index(['State on Stalls', 'Zip on Stalls', 'Country on Stalls', 'kW on Stalls',\n",
            "       'GPS on Stalls', 'Elev(m) on Stalls', 'Open Date on Stalls'],\n",
            "      dtype='object')\n",
            "0.028971573620613998\n",
            "Index(['Zip on Stalls', 'Country on Stalls', 'kW on Stalls', 'GPS on Stalls',\n",
            "       'Elev(m) on Stalls', 'Open Date on Stalls'],\n",
            "      dtype='object')\n",
            "0.028971573620613998\n",
            "Index(['Country on Stalls', 'kW on Stalls', 'GPS on Stalls',\n",
            "       'Elev(m) on Stalls', 'Open Date on Stalls'],\n",
            "      dtype='object')\n",
            "0.028971573620613998\n",
            "Index(['kW on Stalls', 'GPS on Stalls', 'Elev(m) on Stalls',\n",
            "       'Open Date on Stalls'],\n",
            "      dtype='object')\n",
            "0.028971573620613998\n",
            "Index(['GPS on Stalls', 'Elev(m) on Stalls', 'Open Date on Stalls'], dtype='object')\n",
            "0.028971573620613998\n",
            "Index(['Elev(m) on Stalls', 'Open Date on Stalls'], dtype='object')\n",
            "0.028971573620613998\n",
            "Index(['Open Date on Stalls'], dtype='object')\n",
            "0.028971573620613998\n",
            "Index(['Supercharger on Stalls', 'Street Address on Stalls', 'City on Stalls',\n",
            "       'State on Stalls', 'Zip on Stalls', 'Country on Stalls', 'kW on Stalls',\n",
            "       'GPS on Stalls', 'Elev(m) on Stalls', 'Open Date on Stalls',\n",
            "       'Unnamed: 11 on Stalls'],\n",
            "      dtype='object')\n",
            "nan\n",
            "Index(['Street Address on Stalls', 'City on Stalls', 'State on Stalls',\n",
            "       'Zip on Stalls', 'Country on Stalls', 'kW on Stalls', 'GPS on Stalls',\n",
            "       'Elev(m) on Stalls', 'Open Date on Stalls', 'Unnamed: 11 on Stalls'],\n",
            "      dtype='object')\n",
            "nan\n",
            "Index(['City on Stalls', 'State on Stalls', 'Zip on Stalls',\n",
            "       'Country on Stalls', 'kW on Stalls', 'GPS on Stalls',\n",
            "       'Elev(m) on Stalls', 'Open Date on Stalls', 'Unnamed: 11 on Stalls'],\n",
            "      dtype='object')\n",
            "nan\n",
            "Index(['State on Stalls', 'Zip on Stalls', 'Country on Stalls', 'kW on Stalls',\n",
            "       'GPS on Stalls', 'Elev(m) on Stalls', 'Open Date on Stalls',\n",
            "       'Unnamed: 11 on Stalls'],\n",
            "      dtype='object')\n",
            "nan\n",
            "Index(['Zip on Stalls', 'Country on Stalls', 'kW on Stalls', 'GPS on Stalls',\n",
            "       'Elev(m) on Stalls', 'Open Date on Stalls', 'Unnamed: 11 on Stalls'],\n",
            "      dtype='object')\n",
            "nan\n",
            "Index(['Country on Stalls', 'kW on Stalls', 'GPS on Stalls',\n",
            "       'Elev(m) on Stalls', 'Open Date on Stalls', 'Unnamed: 11 on Stalls'],\n",
            "      dtype='object')\n",
            "nan\n",
            "Index(['kW on Stalls', 'GPS on Stalls', 'Elev(m) on Stalls',\n",
            "       'Open Date on Stalls', 'Unnamed: 11 on Stalls'],\n",
            "      dtype='object')\n",
            "nan\n",
            "Index(['GPS on Stalls', 'Elev(m) on Stalls', 'Open Date on Stalls',\n",
            "       'Unnamed: 11 on Stalls'],\n",
            "      dtype='object')\n",
            "nan\n",
            "Index(['Elev(m) on Stalls', 'Open Date on Stalls', 'Unnamed: 11 on Stalls'], dtype='object')\n",
            "nan\n",
            "Index(['Open Date on Stalls', 'Unnamed: 11 on Stalls'], dtype='object')\n",
            "nan\n",
            "Index(['Unnamed: 11 on Stalls'], dtype='object')\n",
            "nan\n"
          ]
        },
        {
          "output_type": "display_data",
          "data": {
            "text/plain": [
              "<Figure size 640x480 with 2 Axes>"
            ],
            "image/png": "[encoded data removed]"
          },
          "metadata": {}
        }
      ]
    }
  ]
}