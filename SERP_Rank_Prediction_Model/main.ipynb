{
 "cells": [
  {
   "cell_type": "code",
   "execution_count": 35,
   "metadata": {},
   "outputs": [
    {
     "data": {
      "text/html": [
       "<div>\n",
       "<style scoped>\n",
       "    .dataframe tbody tr th:only-of-type {\n",
       "        vertical-align: middle;\n",
       "    }\n",
       "\n",
       "    .dataframe tbody tr th {\n",
       "        vertical-align: top;\n",
       "    }\n",
       "\n",
       "    .dataframe thead th {\n",
       "        text-align: right;\n",
       "    }\n",
       "</style>\n",
       "<table border=\"1\" class=\"dataframe\">\n",
       "  <thead>\n",
       "    <tr style=\"text-align: right;\">\n",
       "      <th></th>\n",
       "      <th>date</th>\n",
       "      <th>keyword</th>\n",
       "      <th>rank</th>\n",
       "      <th>meta_description</th>\n",
       "      <th>featured_snippet</th>\n",
       "    </tr>\n",
       "  </thead>\n",
       "  <tbody>\n",
       "    <tr>\n",
       "      <th>0</th>\n",
       "      <td>2023-01-01</td>\n",
       "      <td>seo tips</td>\n",
       "      <td>1</td>\n",
       "      <td>poyzmngdclneelvoegnolggcjanpwfrqrvbjbekyvhtnbe...</td>\n",
       "      <td>NaN</td>\n",
       "    </tr>\n",
       "    <tr>\n",
       "      <th>1</th>\n",
       "      <td>2023-01-01</td>\n",
       "      <td>seo tips</td>\n",
       "      <td>2</td>\n",
       "      <td>rxoriiksgoofymruwkhoqgyirrbquagtlhqaoylenntvqk...</td>\n",
       "      <td>NaN</td>\n",
       "    </tr>\n",
       "    <tr>\n",
       "      <th>2</th>\n",
       "      <td>2023-01-01</td>\n",
       "      <td>seo tips</td>\n",
       "      <td>3</td>\n",
       "      <td>ryouzhihrdmayhbgazjzgqnlophdftjncoxijdwksnskrx...</td>\n",
       "      <td>NaN</td>\n",
       "    </tr>\n",
       "    <tr>\n",
       "      <th>3</th>\n",
       "      <td>2023-01-01</td>\n",
       "      <td>seo tips</td>\n",
       "      <td>4</td>\n",
       "      <td>sqzsaalsohsxkmmrbitepeceaojxnyfctkfgjyxbhdkqzc...</td>\n",
       "      <td>NaN</td>\n",
       "    </tr>\n",
       "    <tr>\n",
       "      <th>4</th>\n",
       "      <td>2023-01-01</td>\n",
       "      <td>seo tips</td>\n",
       "      <td>5</td>\n",
       "      <td>qnobgnwefhftszuavjlxvvddovbneaieflltujgatloiqf...</td>\n",
       "      <td>NaN</td>\n",
       "    </tr>\n",
       "  </tbody>\n",
       "</table>\n",
       "</div>"
      ],
      "text/plain": [
       "         date   keyword  rank  \\\n",
       "0  2023-01-01  seo tips     1   \n",
       "1  2023-01-01  seo tips     2   \n",
       "2  2023-01-01  seo tips     3   \n",
       "3  2023-01-01  seo tips     4   \n",
       "4  2023-01-01  seo tips     5   \n",
       "\n",
       "                                    meta_description featured_snippet  \n",
       "0  poyzmngdclneelvoegnolggcjanpwfrqrvbjbekyvhtnbe...              NaN  \n",
       "1  rxoriiksgoofymruwkhoqgyirrbquagtlhqaoylenntvqk...              NaN  \n",
       "2  ryouzhihrdmayhbgazjzgqnlophdftjncoxijdwksnskrx...              NaN  \n",
       "3  sqzsaalsohsxkmmrbitepeceaojxnyfctkfgjyxbhdkqzc...              NaN  \n",
       "4  qnobgnwefhftszuavjlxvvddovbneaieflltujgatloiqf...              NaN  "
      ]
     },
     "execution_count": 35,
     "metadata": {},
     "output_type": "execute_result"
    }
   ],
   "source": [
    "from sklearn.model_selection import train_test_split\n",
    "from sklearn.ensemble import RandomForestRegressor\n",
    "from sklearn.metrics import mean_squared_error\n",
    "from sklearn.feature_extraction.text import TfidfVectorizer\n",
    "from sklearn.preprocessing import LabelEncoder\n",
    "import numpy as np\n",
    "import pandas as pd\n",
    "\n",
    "# Load data\n",
    "serp_data = pd.read_csv('serp_data.csv')\n",
    "serp_data.head()\n"
   ]
  },
  {
   "cell_type": "code",
   "execution_count": 36,
   "metadata": {},
   "outputs": [],
   "source": [
    "# Preprocessing\n",
    "\n",
    "# Fill missing values in featured_snippet with an empty string\n",
    "serp_data['featured_snippet'] = serp_data['featured_snippet'].fillna('')"
   ]
  },
  {
   "cell_type": "code",
   "execution_count": 37,
   "metadata": {},
   "outputs": [
    {
     "data": {
      "text/plain": [
       "0    \n",
       "1    \n",
       "2    \n",
       "3    \n",
       "4    \n",
       "Name: featured_snippet, dtype: object"
      ]
     },
     "execution_count": 37,
     "metadata": {},
     "output_type": "execute_result"
    }
   ],
   "source": [
    "serp_data['featured_snippet'].head()"
   ]
  },
  {
   "cell_type": "code",
   "execution_count": 38,
   "metadata": {},
   "outputs": [
    {
     "data": {
      "text/plain": [
       "0    poyzmngdclneelvoegnolggcjanpwfrqrvbjbekyvhtnbe...\n",
       "1    rxoriiksgoofymruwkhoqgyirrbquagtlhqaoylenntvqk...\n",
       "2    ryouzhihrdmayhbgazjzgqnlophdftjncoxijdwksnskrx...\n",
       "3    sqzsaalsohsxkmmrbitepeceaojxnyfctkfgjyxbhdkqzc...\n",
       "4    qnobgnwefhftszuavjlxvvddovbneaieflltujgatloiqf...\n",
       "Name: combined_text, dtype: object"
      ]
     },
     "execution_count": 38,
     "metadata": {},
     "output_type": "execute_result"
    }
   ],
   "source": [
    "# Combine meta_description and featured_snippet into one text feature\n",
    "serp_data['combined_text'] = serp_data['meta_description'] + ' ' + serp_data['featured_snippet']\n",
    "serp_data['combined_text'].head()"
   ]
  },
  {
   "cell_type": "code",
   "execution_count": 39,
   "metadata": {},
   "outputs": [
    {
     "name": "stdout",
     "output_type": "stream",
     "text": [
      "<class 'pandas.core.frame.DataFrame'>\n",
      "RangeIndex: 1200 entries, 0 to 1199\n",
      "Data columns (total 6 columns):\n",
      " #   Column            Non-Null Count  Dtype \n",
      "---  ------            --------------  ----- \n",
      " 0   date              1200 non-null   object\n",
      " 1   keyword           1200 non-null   object\n",
      " 2   rank              1200 non-null   int64 \n",
      " 3   meta_description  1200 non-null   object\n",
      " 4   featured_snippet  1200 non-null   object\n",
      " 5   combined_text     1200 non-null   object\n",
      "dtypes: int64(1), object(5)\n",
      "memory usage: 56.4+ KB\n"
     ]
    }
   ],
   "source": [
    "serp_data.info()"
   ]
  },
  {
   "cell_type": "code",
   "execution_count": 40,
   "metadata": {},
   "outputs": [],
   "source": [
    "#convert data to datetime\n",
    "# Convert date to datetime and extract year, month, day\n",
    "serp_data['date'] = pd.to_datetime(serp_data['date'])\n",
    "serp_data['year'] = serp_data['date'].dt.year\n",
    "serp_data['month'] = serp_data['date'].dt.month\n",
    "serp_data['day'] = serp_data['date'].dt.day\n"
   ]
  },
  {
   "cell_type": "code",
   "execution_count": 41,
   "metadata": {},
   "outputs": [],
   "source": [
    "# Encode the keyword column\n",
    "label_encoder = LabelEncoder()\n",
    "serp_data['keyword_encoded'] = label_encoder.fit_transform(serp_data['keyword'])"
   ]
  },
  {
   "cell_type": "code",
   "execution_count": 42,
   "metadata": {},
   "outputs": [],
   "source": [
    "# Feature Engineering: Text features using TF-IDF\n",
    "tfidf = TfidfVectorizer(max_features=100)  # Limiting to 100 features for simplicity\n",
    "tfidf_features = tfidf.fit_transform(serp_data['combined_text']).toarray()\n",
    "tfidf_feature_names = tfidf.get_feature_names_out()\n",
    "tfidf_df = pd.DataFrame(tfidf_features, columns=tfidf_feature_names)"
   ]
  },
  {
   "cell_type": "code",
   "execution_count": 43,
   "metadata": {},
   "outputs": [],
   "source": [
    "# Combine TF-IDF features with other features\n",
    "model_data = pd.concat([serp_data[['rank', 'keyword_encoded', 'year', 'month', 'day']], tfidf_df], axis=1)\n",
    "\n",
    "# Splitting data into features (X) and target (y)\n",
    "X = model_data.drop('rank', axis=1)\n",
    "y = model_data['rank']"
   ]
  },
  {
   "cell_type": "code",
   "execution_count": 44,
   "metadata": {},
   "outputs": [
    {
     "data": {
      "text/plain": [
       "10.932690200502133"
      ]
     },
     "execution_count": 44,
     "metadata": {},
     "output_type": "execute_result"
    }
   ],
   "source": [
    "# Split the dataset into training and testing sets\n",
    "X_train, X_test, y_train, y_test = train_test_split(X, y, test_size=0.2, random_state=42)\n",
    "\n",
    "# Model Training\n",
    "model = RandomForestRegressor(random_state=42)\n",
    "model.fit(X_train, y_train)\n",
    "\n",
    "# Model Evaluation\n",
    "y_pred = model.predict(X_test)\n",
    "mse = mean_squared_error(y_test, y_pred)\n",
    "\n",
    "mse"
   ]
  },
  {
   "cell_type": "code",
   "execution_count": 45,
   "metadata": {},
   "outputs": [
    {
     "data": {
      "text/plain": [
       "8.398858576718712"
      ]
     },
     "execution_count": 45,
     "metadata": {},
     "output_type": "execute_result"
    }
   ],
   "source": [
    "# Model Training with Gradient Boosting Regressor\n",
    "from sklearn.ensemble import GradientBoostingRegressor\n",
    "gb_model = GradientBoostingRegressor(random_state=42)\n",
    "gb_model.fit(X_train, y_train)\n",
    "\n",
    "# Model Evaluation\n",
    "y_pred_gb = gb_model.predict(X_test)\n",
    "mse_gb = mean_squared_error(y_test, y_pred_gb)\n",
    "\n",
    "mse_gb"
   ]
  },
  {
   "cell_type": "code",
   "execution_count": 46,
   "metadata": {},
   "outputs": [
    {
     "data": {
      "text/html": [
       "<div>\n",
       "<style scoped>\n",
       "    .dataframe tbody tr th:only-of-type {\n",
       "        vertical-align: middle;\n",
       "    }\n",
       "\n",
       "    .dataframe tbody tr th {\n",
       "        vertical-align: top;\n",
       "    }\n",
       "\n",
       "    .dataframe thead th {\n",
       "        text-align: right;\n",
       "    }\n",
       "</style>\n",
       "<table border=\"1\" class=\"dataframe\">\n",
       "  <thead>\n",
       "    <tr style=\"text-align: right;\">\n",
       "      <th></th>\n",
       "      <th>date</th>\n",
       "      <th>keyword</th>\n",
       "      <th>rank</th>\n",
       "      <th>meta_description</th>\n",
       "      <th>featured_snippet</th>\n",
       "    </tr>\n",
       "  </thead>\n",
       "  <tbody>\n",
       "    <tr>\n",
       "      <th>0</th>\n",
       "      <td>2023-04-01</td>\n",
       "      <td>seo tips</td>\n",
       "      <td>1</td>\n",
       "      <td>daHy9w40DOYMwGslcubVtuQ62dIDvrMbgUj5881iJ397Ir...</td>\n",
       "      <td>ygQdvhHlsSAaGjlTYGCAsi7qEmxR9GppY60GxbJf8YfJCc...</td>\n",
       "    </tr>\n",
       "    <tr>\n",
       "      <th>1</th>\n",
       "      <td>2023-04-01</td>\n",
       "      <td>seo tips</td>\n",
       "      <td>2</td>\n",
       "      <td>MMFxEdObWOG3zSyhUIltP5m6j0TQiPQzwtoJICFrO8VJnb...</td>\n",
       "      <td>NaN</td>\n",
       "    </tr>\n",
       "    <tr>\n",
       "      <th>2</th>\n",
       "      <td>2023-04-01</td>\n",
       "      <td>seo tips</td>\n",
       "      <td>3</td>\n",
       "      <td>FnBTtYgRqIxDOnkfoTk3voRiRCouenZtaWckxHIUpUuqpz...</td>\n",
       "      <td>NaN</td>\n",
       "    </tr>\n",
       "    <tr>\n",
       "      <th>3</th>\n",
       "      <td>2023-04-01</td>\n",
       "      <td>seo tips</td>\n",
       "      <td>4</td>\n",
       "      <td>tjzAE25UcSLrykPEzON67pZ4aAXOcvgNqEMLbsGyqsQrs7...</td>\n",
       "      <td>SFiZ2Kbmay5rpmplLHrMWBA78rVvDNJVvjMt4lPd6b8Y19...</td>\n",
       "    </tr>\n",
       "    <tr>\n",
       "      <th>4</th>\n",
       "      <td>2023-04-01</td>\n",
       "      <td>seo tips</td>\n",
       "      <td>5</td>\n",
       "      <td>j5UuRRjeWwfDv0LNioYAqzJWFVashATiXxLmp6AkRyyPKP...</td>\n",
       "      <td>NaN</td>\n",
       "    </tr>\n",
       "  </tbody>\n",
       "</table>\n",
       "</div>"
      ],
      "text/plain": [
       "         date   keyword  rank  \\\n",
       "0  2023-04-01  seo tips     1   \n",
       "1  2023-04-01  seo tips     2   \n",
       "2  2023-04-01  seo tips     3   \n",
       "3  2023-04-01  seo tips     4   \n",
       "4  2023-04-01  seo tips     5   \n",
       "\n",
       "                                    meta_description  \\\n",
       "0  daHy9w40DOYMwGslcubVtuQ62dIDvrMbgUj5881iJ397Ir...   \n",
       "1  MMFxEdObWOG3zSyhUIltP5m6j0TQiPQzwtoJICFrO8VJnb...   \n",
       "2  FnBTtYgRqIxDOnkfoTk3voRiRCouenZtaWckxHIUpUuqpz...   \n",
       "3  tjzAE25UcSLrykPEzON67pZ4aAXOcvgNqEMLbsGyqsQrs7...   \n",
       "4  j5UuRRjeWwfDv0LNioYAqzJWFVashATiXxLmp6AkRyyPKP...   \n",
       "\n",
       "                                    featured_snippet  \n",
       "0  ygQdvhHlsSAaGjlTYGCAsi7qEmxR9GppY60GxbJf8YfJCc...  \n",
       "1                                                NaN  \n",
       "2                                                NaN  \n",
       "3  SFiZ2Kbmay5rpmplLHrMWBA78rVvDNJVvjMt4lPd6b8Y19...  \n",
       "4                                                NaN  "
      ]
     },
     "execution_count": 46,
     "metadata": {},
     "output_type": "execute_result"
    }
   ],
   "source": [
    "#test model with test_data.csv\n",
    "test_data = pd.read_csv('test_data.csv')\n",
    "test_data.head()\n"
   ]
  },
  {
   "cell_type": "code",
   "execution_count": 47,
   "metadata": {},
   "outputs": [],
   "source": [
    "\n",
    "# Preprocessing the test data\n",
    "# Fill missing values in featured_snippet\n",
    "test_data['featured_snippet'] = test_data['featured_snippet'].fillna('')\n",
    "\n",
    "# Combine meta_description and featured_snippet\n",
    "test_data['combined_text'] = test_data['meta_description'] + ' ' + test_data['featured_snippet']\n",
    "\n",
    "# Convert date to datetime and extract year, month, day\n",
    "test_data['date'] = pd.to_datetime(test_data['date'])\n",
    "test_data['year'] = test_data['date'].dt.year\n",
    "test_data['month'] = test_data['date'].dt.month\n",
    "test_data['day'] = test_data['date'].dt.day\n",
    "\n",
    "# Encode the keyword column using the same LabelEncoder from training\n",
    "test_data['keyword_encoded'] = label_encoder.transform(test_data['keyword'])\n",
    "\n",
    "# Apply the same TF-IDF transformation as was applied to the training data\n",
    "tfidf_test_features = tfidf.transform(test_data['combined_text']).toarray()\n",
    "tfidf_test_df = pd.DataFrame(tfidf_test_features, columns=tfidf.get_feature_names_out())"
   ]
  },
  {
   "cell_type": "code",
   "execution_count": 48,
   "metadata": {},
   "outputs": [],
   "source": [
    "# Combine the transformed features for the test set\n",
    "X_test = pd.concat([test_data[['keyword_encoded', 'year', 'month', 'day']], tfidf_test_df], axis=1)"
   ]
  },
  {
   "cell_type": "code",
   "execution_count": 49,
   "metadata": {},
   "outputs": [
    {
     "data": {
      "text/html": [
       "<div>\n",
       "<style scoped>\n",
       "    .dataframe tbody tr th:only-of-type {\n",
       "        vertical-align: middle;\n",
       "    }\n",
       "\n",
       "    .dataframe tbody tr th {\n",
       "        vertical-align: top;\n",
       "    }\n",
       "\n",
       "    .dataframe thead th {\n",
       "        text-align: right;\n",
       "    }\n",
       "</style>\n",
       "<table border=\"1\" class=\"dataframe\">\n",
       "  <thead>\n",
       "    <tr style=\"text-align: right;\">\n",
       "      <th></th>\n",
       "      <th>date</th>\n",
       "      <th>keyword</th>\n",
       "      <th>rank</th>\n",
       "      <th>meta_description</th>\n",
       "      <th>featured_snippet</th>\n",
       "      <th>combined_text</th>\n",
       "      <th>year</th>\n",
       "      <th>month</th>\n",
       "      <th>day</th>\n",
       "      <th>keyword_encoded</th>\n",
       "      <th>predicted_rank</th>\n",
       "    </tr>\n",
       "  </thead>\n",
       "  <tbody>\n",
       "    <tr>\n",
       "      <th>0</th>\n",
       "      <td>2023-04-01</td>\n",
       "      <td>seo tips</td>\n",
       "      <td>1</td>\n",
       "      <td>daHy9w40DOYMwGslcubVtuQ62dIDvrMbgUj5881iJ397Ir...</td>\n",
       "      <td>ygQdvhHlsSAaGjlTYGCAsi7qEmxR9GppY60GxbJf8YfJCc...</td>\n",
       "      <td>daHy9w40DOYMwGslcubVtuQ62dIDvrMbgUj5881iJ397Ir...</td>\n",
       "      <td>2023</td>\n",
       "      <td>4</td>\n",
       "      <td>1</td>\n",
       "      <td>2</td>\n",
       "      <td>5.460821</td>\n",
       "    </tr>\n",
       "    <tr>\n",
       "      <th>1</th>\n",
       "      <td>2023-04-01</td>\n",
       "      <td>seo tips</td>\n",
       "      <td>2</td>\n",
       "      <td>MMFxEdObWOG3zSyhUIltP5m6j0TQiPQzwtoJICFrO8VJnb...</td>\n",
       "      <td></td>\n",
       "      <td>MMFxEdObWOG3zSyhUIltP5m6j0TQiPQzwtoJICFrO8VJnb...</td>\n",
       "      <td>2023</td>\n",
       "      <td>4</td>\n",
       "      <td>1</td>\n",
       "      <td>2</td>\n",
       "      <td>5.460821</td>\n",
       "    </tr>\n",
       "    <tr>\n",
       "      <th>2</th>\n",
       "      <td>2023-04-01</td>\n",
       "      <td>seo tips</td>\n",
       "      <td>3</td>\n",
       "      <td>FnBTtYgRqIxDOnkfoTk3voRiRCouenZtaWckxHIUpUuqpz...</td>\n",
       "      <td></td>\n",
       "      <td>FnBTtYgRqIxDOnkfoTk3voRiRCouenZtaWckxHIUpUuqpz...</td>\n",
       "      <td>2023</td>\n",
       "      <td>4</td>\n",
       "      <td>1</td>\n",
       "      <td>2</td>\n",
       "      <td>5.460821</td>\n",
       "    </tr>\n",
       "    <tr>\n",
       "      <th>3</th>\n",
       "      <td>2023-04-01</td>\n",
       "      <td>seo tips</td>\n",
       "      <td>4</td>\n",
       "      <td>tjzAE25UcSLrykPEzON67pZ4aAXOcvgNqEMLbsGyqsQrs7...</td>\n",
       "      <td>SFiZ2Kbmay5rpmplLHrMWBA78rVvDNJVvjMt4lPd6b8Y19...</td>\n",
       "      <td>tjzAE25UcSLrykPEzON67pZ4aAXOcvgNqEMLbsGyqsQrs7...</td>\n",
       "      <td>2023</td>\n",
       "      <td>4</td>\n",
       "      <td>1</td>\n",
       "      <td>2</td>\n",
       "      <td>5.460821</td>\n",
       "    </tr>\n",
       "    <tr>\n",
       "      <th>4</th>\n",
       "      <td>2023-04-01</td>\n",
       "      <td>seo tips</td>\n",
       "      <td>5</td>\n",
       "      <td>j5UuRRjeWwfDv0LNioYAqzJWFVashATiXxLmp6AkRyyPKP...</td>\n",
       "      <td></td>\n",
       "      <td>j5UuRRjeWwfDv0LNioYAqzJWFVashATiXxLmp6AkRyyPKP...</td>\n",
       "      <td>2023</td>\n",
       "      <td>4</td>\n",
       "      <td>1</td>\n",
       "      <td>2</td>\n",
       "      <td>5.460821</td>\n",
       "    </tr>\n",
       "  </tbody>\n",
       "</table>\n",
       "</div>"
      ],
      "text/plain": [
       "        date   keyword  rank  \\\n",
       "0 2023-04-01  seo tips     1   \n",
       "1 2023-04-01  seo tips     2   \n",
       "2 2023-04-01  seo tips     3   \n",
       "3 2023-04-01  seo tips     4   \n",
       "4 2023-04-01  seo tips     5   \n",
       "\n",
       "                                    meta_description  \\\n",
       "0  daHy9w40DOYMwGslcubVtuQ62dIDvrMbgUj5881iJ397Ir...   \n",
       "1  MMFxEdObWOG3zSyhUIltP5m6j0TQiPQzwtoJICFrO8VJnb...   \n",
       "2  FnBTtYgRqIxDOnkfoTk3voRiRCouenZtaWckxHIUpUuqpz...   \n",
       "3  tjzAE25UcSLrykPEzON67pZ4aAXOcvgNqEMLbsGyqsQrs7...   \n",
       "4  j5UuRRjeWwfDv0LNioYAqzJWFVashATiXxLmp6AkRyyPKP...   \n",
       "\n",
       "                                    featured_snippet  \\\n",
       "0  ygQdvhHlsSAaGjlTYGCAsi7qEmxR9GppY60GxbJf8YfJCc...   \n",
       "1                                                      \n",
       "2                                                      \n",
       "3  SFiZ2Kbmay5rpmplLHrMWBA78rVvDNJVvjMt4lPd6b8Y19...   \n",
       "4                                                      \n",
       "\n",
       "                                       combined_text  year  month  day  \\\n",
       "0  daHy9w40DOYMwGslcubVtuQ62dIDvrMbgUj5881iJ397Ir...  2023      4    1   \n",
       "1  MMFxEdObWOG3zSyhUIltP5m6j0TQiPQzwtoJICFrO8VJnb...  2023      4    1   \n",
       "2  FnBTtYgRqIxDOnkfoTk3voRiRCouenZtaWckxHIUpUuqpz...  2023      4    1   \n",
       "3  tjzAE25UcSLrykPEzON67pZ4aAXOcvgNqEMLbsGyqsQrs7...  2023      4    1   \n",
       "4  j5UuRRjeWwfDv0LNioYAqzJWFVashATiXxLmp6AkRyyPKP...  2023      4    1   \n",
       "\n",
       "   keyword_encoded  predicted_rank  \n",
       "0                2        5.460821  \n",
       "1                2        5.460821  \n",
       "2                2        5.460821  \n",
       "3                2        5.460821  \n",
       "4                2        5.460821  "
      ]
     },
     "execution_count": 49,
     "metadata": {},
     "output_type": "execute_result"
    }
   ],
   "source": [
    "# Predict using the Gradient Boosting Regressor model\n",
    "y_pred = gb_model.predict(X_test)\n",
    "\n",
    "# Adding predictions to the test dataframe for easy viewing\n",
    "test_data['predicted_rank'] = y_pred\n",
    "\n",
    "# Displaying the first few rows of the test data with predictions\n",
    "test_data.head()\n"
   ]
  },
  {
   "cell_type": "code",
   "execution_count": 51,
   "metadata": {},
   "outputs": [
    {
     "data": {
      "image/png": "[encoded data removed]",
      "text/plain": [
       "<Figure size 1000x800 with 1 Axes>"
      ]
     },
     "metadata": {},
     "output_type": "display_data"
    }
   ],
   "source": [
    "#visualize the predictions\n",
    "import matplotlib.pyplot as plt\n",
    "import seaborn as sns\n",
    "\n",
    "# Plotting the predicted rank vs actual rank with different colors for each keyword\n",
    "plt.figure(figsize=(10, 8))\n",
    "sns.scatterplot(data=test_data, x='predicted_rank', y='rank', hue='keyword')\n",
    "plt.show()"
   ]
  },
  {
   "cell_type": "markdown",
   "metadata": {},
   "source": [
    "Key observations from the plot :\n",
    "\n",
    "### The predicted ranks seem to cluster around certain values on the x-axis for each keyword. This suggests that the model may have some level of accuracy but potentially a limited range in its predictions.\n",
    "### There appears to be a vertical dispersion of points for each predicted rank value, indicating that for the same predicted rank, the actual ranks vary significantly.\n",
    "### If the model were perfect, all points would lie on a diagonal line where the actual rank equals the predicted rank. The spread of points away from such a line suggests prediction errors.\n",
    "### The predictions for 'seo tips' and 'how to improve seo' (blue and green points) seem to be more closely grouped, while the predictions for 'best seo practices' and 'seo trends' (red and orange points) are more spread out, suggesting that the model's performance may vary by keyword.\n",
    "### The model might be systematically underpredicting or overpredicting ranks for certain keywords, indicated by the points not being evenly distributed around a line that would represent a perfect prediction.\n",
    "## This plot can be used to evaluate the performance of the machine learning model, indicating where it makes accurate predictions and where it might need improvement. It also provides insights into whether the model's performance is consistent across different keywords.\n",
    "\n",
    "\n",
    "\n",
    "\n",
    "\n"
   ]
  },
  {
   "cell_type": "markdown",
   "metadata": {},
   "source": []
  }
 ],
 "metadata": {
  "kernelspec": {
   "display_name": "tensor",
   "language": "python",
   "name": "python3"
  },
  "language_info": {
   "codemirror_mode": {
    "name": "ipython",
    "version": 3
   },
   "file_extension": ".py",
   "mimetype": "text/x-python",
   "name": "python",
   "nbconvert_exporter": "python",
   "pygments_lexer": "ipython3",
   "version": "3.8.13"
  }
 },
 "nbformat": 4,
 "nbformat_minor": 2
}
