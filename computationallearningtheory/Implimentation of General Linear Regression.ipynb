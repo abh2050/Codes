{
 "cells": [
  {
   "cell_type": "code",
   "execution_count": 20,
   "metadata": {},
   "outputs": [
    {
     "name": "stdout",
     "output_type": "stream",
     "text": [
      "Predicted values for hw(1), hw(2), hw(3):\n",
      "2.0000000000000235 0.999999999999976 2.999999999999947\n",
      "Transformed dataset:\n",
      "[[1. 1. 1.]\n",
      " [1. 2. 4.]\n",
      " [1. 3. 9.]]\n",
      "Weight vector: [ 6.  -5.5  1.5]\n",
      "Mean squared error: 1.3072739967687533e-27\n"
     ]
    },
    {
     "name": "stderr",
     "output_type": "stream",
     "text": [
      "/var/folders/r5/3bmqd5d91l7d11d1x39m82v00000gn/T/ipykernel_88498/4253695506.py:8: DeprecationWarning: setting an array element with a sequence. This was supported in some cases where the elements are arrays with a single element. For example `np.array([1, np.array([2])], dtype=int)`. In the future this will raise the same ValueError as `np.array([1, [2]], dtype=int)`.\n",
      "  return np.array([1, x, x**2], dtype=np.float64)\n"
     ]
    }
   ],
   "source": [
    "import numpy as np\n",
    "\n",
    "# Define the dataset D\n",
    "D = np.array([[1.0, 2.0], [2.0, 1.0], [3.0, 3.0]])\n",
    "\n",
    "# Define the feature transformation function\n",
    "def transform(x):\n",
    "    return np.array([1, x, x**2], dtype=np.float64)\n",
    "\n",
    "# Reshape the input array to be two-dimensional\n",
    "D_reshaped = D[:, 0].reshape(-1, 1)\n",
    "\n",
    "# Apply the transformation to each input example in D\n",
    "D_transformed = np.apply_along_axis(transform, 1, D_reshaped).reshape(-1, 3)\n",
    "\n",
    "# Define the hypothesis function hw(x)\n",
    "def hw(x, w):\n",
    "    return np.dot(w, x)\n",
    "\n",
    "# Define the mean squared error (MSE) function\n",
    "def mse(X, y, w):\n",
    "    m = len(y)\n",
    "    y_pred = np.apply_along_axis(lambda x: hw(x, w), 1, X)\n",
    "    return (1/m) * np.sum((y_pred - y)**2)\n",
    "\n",
    "# Define the inputs and targets\n",
    "X = D_transformed\n",
    "y = D[:, 1]\n",
    "\n",
    "# Calculate the weight vector using the closed-form solution for linear regression\n",
    "w = np.linalg.inv(X.T @ X) @ X.T @ y\n",
    "\n",
    "# Apply the transformation function to hw(1), hw(2), hw(3)\n",
    "hw_1_transformed = transform(1)\n",
    "hw_2_transformed = transform(2)\n",
    "hw_3_transformed = transform(3)\n",
    "\n",
    "# Calculate the predicted values of hw(1), hw(2), hw(3)) using the learned weight vector w and hypothesis function hw(x)\n",
    "hw_1_predicted = hw(hw_1_transformed, w)\n",
    "hw_2_predicted = hw(hw_2_transformed, w)\n",
    "hw_3_predicted = hw(hw_3_transformed, w)\n",
    "\n",
    "# Print the predicted values of hw(1), hw(2), hw(3)\n",
    "print(\"Predicted values for hw(1), hw(2), hw(3):\")\n",
    "print(hw_1_predicted, hw_2_predicted, hw_3_predicted)\n",
    "\n",
    "# Calculate the MSE using the predicted values of hw(1), hw(2), hw(3) and the targets\n",
    "mse_value = mse(np.array([hw_1_transformed, hw_2_transformed, hw_3_transformed]), np.array([2.0, 1.0, 3.0]), w)\n",
    "\n",
    "# Print the transformed dataset, weight vector, and MSE\n",
    "print(\"Transformed dataset:\")\n",
    "print(D_transformed)\n",
    "print(\"Weight vector:\", w)\n",
    "print(\"Mean squared error:\", mse_value)\n"
   ]
  },
  {
   "cell_type": "code",
   "execution_count": 21,
   "metadata": {},
   "outputs": [
    {
     "name": "stderr",
     "output_type": "stream",
     "text": [
      "/var/folders/r5/3bmqd5d91l7d11d1x39m82v00000gn/T/ipykernel_88498/2114967767.py:8: DeprecationWarning: setting an array element with a sequence. This was supported in some cases where the elements are arrays with a single element. For example `np.array([1, np.array([2])], dtype=int)`. In the future this will raise the same ValueError as `np.array([1, [2]], dtype=int)`.\n",
      "  return np.array([1, x, x**2], dtype=np.float64)\n"
     ]
    },
    {
     "data": {
      "text/plain": [
       "array([[1., 1., 1.],\n",
       "       [1., 2., 4.],\n",
       "       [1., 3., 9.]])"
      ]
     },
     "execution_count": 21,
     "metadata": {},
     "output_type": "execute_result"
    }
   ],
   "source": [
    "import numpy as np\n",
    "\n",
    "# Define the dataset D\n",
    "D = np.array([[1.0, 2.0], [2.0, 1.0], [3.0, 3.0]])\n",
    "\n",
    "# Define the feature transformation function\n",
    "def transform(x):\n",
    "    return np.array([1, x, x**2], dtype=np.float64)\n",
    "\n",
    "# Reshape the input array to be two-dimensional\n",
    "D_reshaped = D[:, 0].reshape(-1, 1)\n",
    "\n",
    "# Apply the transformation to each input example in D\n",
    "D_transformed = np.apply_along_axis(transform, 1, D_reshaped).reshape(-1, 3)\n",
    "D_transformed"
   ]
  },
  {
   "cell_type": "code",
   "execution_count": 22,
   "metadata": {},
   "outputs": [
    {
     "name": "stdout",
     "output_type": "stream",
     "text": [
      "Predicted values for hw(1), hw(2), hw(3):\n",
      "1.4999999999999982 1.9999999999999982 2.4999999999999982\n",
      "Transformed dataset:\n",
      "[[1. 1.]\n",
      " [1. 2.]\n",
      " [1. 3.]]\n",
      "Weight vector: [1.  0.5]\n",
      "Mean squared error: 0.5\n"
     ]
    },
    {
     "name": "stderr",
     "output_type": "stream",
     "text": [
      "/var/folders/r5/3bmqd5d91l7d11d1x39m82v00000gn/T/ipykernel_88498/2931525186.py:8: DeprecationWarning: setting an array element with a sequence. This was supported in some cases where the elements are arrays with a single element. For example `np.array([1, np.array([2])], dtype=int)`. In the future this will raise the same ValueError as `np.array([1, [2]], dtype=int)`.\n",
      "  return np.array([1, x], dtype=np.float64)\n"
     ]
    }
   ],
   "source": [
    "import numpy as np\n",
    "\n",
    "# Define the dataset D\n",
    "D = np.array([[1.0, 2.0], [2.0, 1.0], [3.0, 3.0]])\n",
    "\n",
    "# Define the feature transformation function\n",
    "def transform(x):\n",
    "    return np.array([1, x], dtype=np.float64)\n",
    "\n",
    "# Reshape the input array to be two-dimensional\n",
    "D_reshaped = D[:, 0].reshape(-1, 1)\n",
    "\n",
    "# Apply the transformation to each input example in D\n",
    "D_transformed = np.apply_along_axis(transform, 1, D_reshaped).reshape(-1, 2)\n",
    "\n",
    "# Define the hypothesis function hw(x)\n",
    "def hw(x, w):\n",
    "    return np.dot(w, x)\n",
    "\n",
    "# Define the mean squared error (MSE) function\n",
    "def mse(X, y, w):\n",
    "    m = len(y)\n",
    "    y_pred = np.apply_along_axis(lambda x: hw(x, w), 1, X)\n",
    "    return (1/m) * np.sum((y_pred - y)**2)\n",
    "\n",
    "# Define the inputs and targets\n",
    "X = D_transformed\n",
    "y = D[:, 1]\n",
    "\n",
    "# Calculate the weight vector using the closed-form solution for linear regression\n",
    "w = np.linalg.inv(X.T @ X) @ X.T @ y\n",
    "\n",
    "# Apply the transformation function to hw(1), hw(2), hw(3)\n",
    "hw_1_transformed = transform(1)\n",
    "hw_2_transformed = transform(2)\n",
    "hw_3_transformed = transform(3)\n",
    "\n",
    "# Calculate the predicted values of hw(1), hw(2), hw(3)) using the learned weight vector w and hypothesis function hw(x)\n",
    "hw_1_predicted = hw(hw_1_transformed, w)\n",
    "hw_2_predicted = hw(hw_2_transformed, w)\n",
    "hw_3_predicted = hw(hw_3_transformed, w)\n",
    "\n",
    "# Print the predicted values of hw(1), hw(2), hw(3)\n",
    "print(\"Predicted values for hw(1), hw(2), hw(3):\")\n",
    "print(hw_1_predicted, hw_2_predicted, hw_3_predicted)\n",
    "\n",
    "# Calculate the MSE using the predicted values of hw(1), hw(2), hw(3) and the targets\n",
    "mse_value = mse(np.array([hw_1_transformed, hw_2_transformed, hw_3_transformed]), np.array([2.0, 1.0, 3.0]), w)\n",
    "\n",
    "# Print the transformed dataset, weight vector, and MSE\n",
    "print(\"Transformed dataset:\")\n",
    "print(D_transformed)\n",
    "print(\"Weight vector:\", w)\n",
    "print(\"Mean squared error:\", mse_value)\n",
    "\n"
   ]
  },
  {
   "cell_type": "code",
   "execution_count": 24,
   "metadata": {},
   "outputs": [
    {
     "name": "stderr",
     "output_type": "stream",
     "text": [
      "/var/folders/r5/3bmqd5d91l7d11d1x39m82v00000gn/T/ipykernel_88498/1999902020.py:9: DeprecationWarning: setting an array element with a sequence. This was supported in some cases where the elements are arrays with a single element. For example `np.array([1, np.array([2])], dtype=int)`. In the future this will raise the same ValueError as `np.array([1, [2]], dtype=int)`.\n",
      "  return np.array([1, x], dtype=np.float64)\n",
      "/var/folders/r5/3bmqd5d91l7d11d1x39m82v00000gn/T/ipykernel_88498/1999902020.py:12: DeprecationWarning: setting an array element with a sequence. This was supported in some cases where the elements are arrays with a single element. For example `np.array([1, np.array([2])], dtype=int)`. In the future this will raise the same ValueError as `np.array([1, [2]], dtype=int)`.\n",
      "  return np.array([1, x, x**2], dtype=np.float64)\n"
     ]
    },
    {
     "data": {
      "image/png": "[encoded data removed]",
      "text/plain": [
       "<Figure size 720x720 with 1 Axes>"
      ]
     },
     "metadata": {
      "needs_background": "light"
     },
     "output_type": "display_data"
    }
   ],
   "source": [
    "import numpy as np\n",
    "import matplotlib.pyplot as plt\n",
    "\n",
    "# Define the dataset D\n",
    "D = np.array([[1.0, 2.0], [2.0, 1.0], [3.0, 3.0]])\n",
    "\n",
    "# Define the feature transformation functions for linear and quadratic regression\n",
    "def transform_linear(x):\n",
    "    return np.array([1, x], dtype=np.float64)\n",
    "\n",
    "def transform_quadratic(x):\n",
    "    return np.array([1, x, x**2], dtype=np.float64)\n",
    "\n",
    "# Reshape the input array to be two-dimensional\n",
    "D_reshaped = D[:, 0].reshape(-1, 1)\n",
    "\n",
    "# Apply the transformations to each input example in D\n",
    "D_transformed_linear = np.apply_along_axis(transform_linear, 1, D_reshaped).reshape(-1, 2)\n",
    "D_transformed_quadratic = np.apply_along_axis(transform_quadratic, 1, D_reshaped).reshape(-1, 3)\n",
    "\n",
    "# Define the hypothesis functions for linear and quadratic regression\n",
    "def hw_linear(x, w):\n",
    "    return np.dot(w, x)\n",
    "\n",
    "def hw_quadratic(x, w):\n",
    "    return np.dot(w, x)\n",
    "\n",
    "# Define the mean squared error (MSE) function for both models\n",
    "def mse_linear(X, y, w):\n",
    "    m = len(y)\n",
    "    y_pred = np.apply_along_axis(lambda x: hw_linear(x, w), 1, X)\n",
    "    return (1/m) * np.sum((y_pred - y)**2)\n",
    "\n",
    "def mse_quadratic(X, y, w):\n",
    "    m = len(y)\n",
    "    y_pred = np.apply_along_axis(lambda x: hw_quadratic(x, w), 1, X)\n",
    "    return (1/m) * np.sum((y_pred - y)**2)\n",
    "\n",
    "# Define the inputs and targets\n",
    "X = D_transformed_linear\n",
    "y = D[:, 1]\n",
    "\n",
    "# Calculate the weight vector using the closed-form solution for linear regression\n",
    "w_linear = np.linalg.inv(X.T @ X) @ X.T @ y\n",
    "\n",
    "# Calculate the MSE using the linear regression model\n",
    "mse_linear_values = []\n",
    "for i in range(1, 101):\n",
    "    w = np.array([0, i/10])\n",
    "    mse_linear_values.append(mse_linear(X, y, w))\n",
    "\n",
    "# Define the inputs and targets\n",
    "X = D_transformed_quadratic\n",
    "y = D[:, 1]\n",
    "\n",
    "# Calculate the weight vector using the closed-form solution for quadratic regression\n",
    "w_quadratic = np.linalg.inv(X.T @ X) @ X.T @ y\n",
    "\n",
    "# Calculate the MSE using the quadratic regression model\n",
    "mse_quadratic_values = []\n",
    "for i in range(1, 101):\n",
    "    w = np.array([0, i/10, 0.5])\n",
    "    mse_quadratic_values.append(mse_quadratic(X, y, w))\n",
    "\n",
    "# Plot the MSE values for both models\n",
    "plt.rcParams['figure.figsize'] = [10, 10]\n",
    "x = np.arange(1, 101, 1)/10\n",
    "plt.plot(x, mse_linear_values, label=\"Linear Regression\")\n",
    "plt.plot(x, mse_quadratic_values, label=\"Quadratic Regression\")\n",
    "plt.xlabel(\"Weight\")\n",
    "plt.ylabel(\"Mean Squared Error (MSE)\")\n",
    "plt.title(\"Comparison of MSE for Linear and Quadratic Regression\")\n",
    "plt.legend()\n",
    "plt.show()\n"
   ]
  }
 ],
 "metadata": {
  "kernelspec": {
   "display_name": "Python 3",
   "language": "python",
   "name": "python3"
  },
  "language_info": {
   "codemirror_mode": {
    "name": "ipython",
    "version": 3
   },
   "file_extension": ".py",
   "mimetype": "text/x-python",
   "name": "python",
   "nbconvert_exporter": "python",
   "pygments_lexer": "ipython3",
   "version": "3.10.4"
  },
  "orig_nbformat": 4,
  "vscode": {
   "interpreter": {
    "hash": "aee8b7b246df8f9039afb4144a1f6fd8d2ca17a180786b69acc140d282b71a49"
   }
  }
 },
 "nbformat": 4,
 "nbformat_minor": 2
}
